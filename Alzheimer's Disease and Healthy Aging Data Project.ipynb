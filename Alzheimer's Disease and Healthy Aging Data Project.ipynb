{
 "cells": [
  {
   "cell_type": "markdown",
   "id": "04baed08",
   "metadata": {},
   "source": [
    "<b> Import the Libraries </b>"
   ]
  },
  {
   "cell_type": "code",
   "execution_count": 1,
   "id": "cb824ba9",
   "metadata": {},
   "outputs": [],
   "source": [
    "import numpy as np\n",
    "import pandas as pd\n",
    "import matplotlib.pyplot as plt\n",
    "import seaborn as sns"
   ]
  },
  {
   "cell_type": "markdown",
   "id": "7369513a",
   "metadata": {},
   "source": [
    "<b> Read the CSV Files </b>"
   ]
  },
  {
   "cell_type": "code",
   "execution_count": 2,
   "id": "67a3da8d",
   "metadata": {},
   "outputs": [
    {
     "name": "stderr",
     "output_type": "stream",
     "text": [
      "C:\\Users\\LENOVO\\AppData\\Local\\Temp\\ipykernel_7612\\1488930178.py:1: DtypeWarning: Columns (17,18) have mixed types. Specify dtype option on import or set low_memory=False.\n",
      "  df = pd.read_csv('Alzheimer_s_Disease_and_Healthy_Aging_Data.csv')\n"
     ]
    }
   ],
   "source": [
    "df = pd.read_csv('Alzheimer_s_Disease_and_Healthy_Aging_Data.csv')"
   ]
  },
  {
   "cell_type": "markdown",
   "id": "2248fa06",
   "metadata": {},
   "source": [
    "<b> Check the 17th and 18th columns, which contain mixed types of data (float and string) </b>"
   ]
  },
  {
   "cell_type": "code",
   "execution_count": 3,
   "id": "3958dff1",
   "metadata": {},
   "outputs": [
    {
     "data": {
      "text/plain": [
       "array([35.9, 13.4, 16.0, ..., '97.7', 99.3, 99.4], dtype=object)"
      ]
     },
     "execution_count": 3,
     "metadata": {},
     "output_type": "execute_result"
    }
   ],
   "source": [
    "df['Low_Confidence_Limit'].unique()"
   ]
  },
  {
   "cell_type": "code",
   "execution_count": 4,
   "id": "86a2f79a",
   "metadata": {},
   "outputs": [
    {
     "data": {
      "text/plain": [
       "array([37.7, 17.9, 33.2, ..., 1.9, 1.4, 1.6], dtype=object)"
      ]
     },
     "execution_count": 4,
     "metadata": {},
     "output_type": "execute_result"
    }
   ],
   "source": [
    "df['High_Confidence_Limit'].unique()"
   ]
  },
  {
   "cell_type": "markdown",
   "id": "975981fb",
   "metadata": {},
   "source": [
    "<b> Check the Dataframe Information </b>"
   ]
  },
  {
   "cell_type": "code",
   "execution_count": 5,
   "id": "be7e55d9",
   "metadata": {},
   "outputs": [
    {
     "name": "stdout",
     "output_type": "stream",
     "text": [
      "<class 'pandas.core.frame.DataFrame'>\n",
      "RangeIndex: 250937 entries, 0 to 250936\n",
      "Data columns (total 39 columns):\n",
      " #   Column                      Non-Null Count   Dtype  \n",
      "---  ------                      --------------   -----  \n",
      " 0   RowId                       250937 non-null  object \n",
      " 1   YearStart                   250937 non-null  int64  \n",
      " 2   YearEnd                     250937 non-null  int64  \n",
      " 3   LocationAbbr                250937 non-null  object \n",
      " 4   LocationDesc                250937 non-null  object \n",
      " 5   Datasource                  250937 non-null  object \n",
      " 6   Class                       250937 non-null  object \n",
      " 7   Topic                       250937 non-null  object \n",
      " 8   Question                    250937 non-null  object \n",
      " 9   Response                    0 non-null       float64\n",
      " 10  Data_Value_Unit             250937 non-null  object \n",
      " 11  DataValueTypeID             250937 non-null  object \n",
      " 12  Data_Value_Type             250937 non-null  object \n",
      " 13  Data_Value                  169302 non-null  float64\n",
      " 14  Data_Value_Alt              169302 non-null  float64\n",
      " 15  Data_Value_Footnote_Symbol  99114 non-null   object \n",
      " 16  Data_Value_Footnote         99114 non-null   object \n",
      " 17  Low_Confidence_Limit        169152 non-null  object \n",
      " 18  High_Confidence_Limit       169152 non-null  object \n",
      " 19  Sample_Size                 0 non-null       float64\n",
      " 20  StratificationCategory1     250937 non-null  object \n",
      " 21  Stratification1             250937 non-null  object \n",
      " 22  StratificationCategory2     218561 non-null  object \n",
      " 23  Stratification2             218561 non-null  object \n",
      " 24  StratificationCategory3     0 non-null       float64\n",
      " 25  Stratification3             0 non-null       float64\n",
      " 26  Geolocation                 224228 non-null  object \n",
      " 27  ClassID                     250937 non-null  object \n",
      " 28  TopicID                     250937 non-null  object \n",
      " 29  QuestionID                  250937 non-null  object \n",
      " 30  ResponseID                  0 non-null       float64\n",
      " 31  LocationID                  250937 non-null  int64  \n",
      " 32  StratificationCategoryID1   250937 non-null  object \n",
      " 33  StratificationID1           250937 non-null  object \n",
      " 34  StratificationCategoryID2   250937 non-null  object \n",
      " 35  StratificationID2           250937 non-null  object \n",
      " 36  StratificationCategoryID3   0 non-null       float64\n",
      " 37  StratificationID3           0 non-null       float64\n",
      " 38  Report                      0 non-null       float64\n",
      "dtypes: float64(10), int64(3), object(26)\n",
      "memory usage: 74.7+ MB\n"
     ]
    }
   ],
   "source": [
    "df.info()"
   ]
  },
  {
   "cell_type": "markdown",
   "id": "aa941381",
   "metadata": {},
   "source": [
    "<b> Delete Columns that Have 0 non-null Values </b>"
   ]
  },
  {
   "cell_type": "code",
   "execution_count": 6,
   "id": "8ea0f89d",
   "metadata": {},
   "outputs": [],
   "source": [
    "df = df.drop(['Response', 'Sample_Size', 'StratificationCategory3', 'Stratification3', \n",
    "              'ResponseID', 'StratificationCategoryID3', 'StratificationID3', 'Report'],\n",
    "              axis = 1)"
   ]
  },
  {
   "cell_type": "code",
   "execution_count": 7,
   "id": "1bc9bc56",
   "metadata": {},
   "outputs": [
    {
     "name": "stdout",
     "output_type": "stream",
     "text": [
      "<class 'pandas.core.frame.DataFrame'>\n",
      "RangeIndex: 250937 entries, 0 to 250936\n",
      "Data columns (total 31 columns):\n",
      " #   Column                      Non-Null Count   Dtype  \n",
      "---  ------                      --------------   -----  \n",
      " 0   RowId                       250937 non-null  object \n",
      " 1   YearStart                   250937 non-null  int64  \n",
      " 2   YearEnd                     250937 non-null  int64  \n",
      " 3   LocationAbbr                250937 non-null  object \n",
      " 4   LocationDesc                250937 non-null  object \n",
      " 5   Datasource                  250937 non-null  object \n",
      " 6   Class                       250937 non-null  object \n",
      " 7   Topic                       250937 non-null  object \n",
      " 8   Question                    250937 non-null  object \n",
      " 9   Data_Value_Unit             250937 non-null  object \n",
      " 10  DataValueTypeID             250937 non-null  object \n",
      " 11  Data_Value_Type             250937 non-null  object \n",
      " 12  Data_Value                  169302 non-null  float64\n",
      " 13  Data_Value_Alt              169302 non-null  float64\n",
      " 14  Data_Value_Footnote_Symbol  99114 non-null   object \n",
      " 15  Data_Value_Footnote         99114 non-null   object \n",
      " 16  Low_Confidence_Limit        169152 non-null  object \n",
      " 17  High_Confidence_Limit       169152 non-null  object \n",
      " 18  StratificationCategory1     250937 non-null  object \n",
      " 19  Stratification1             250937 non-null  object \n",
      " 20  StratificationCategory2     218561 non-null  object \n",
      " 21  Stratification2             218561 non-null  object \n",
      " 22  Geolocation                 224228 non-null  object \n",
      " 23  ClassID                     250937 non-null  object \n",
      " 24  TopicID                     250937 non-null  object \n",
      " 25  QuestionID                  250937 non-null  object \n",
      " 26  LocationID                  250937 non-null  int64  \n",
      " 27  StratificationCategoryID1   250937 non-null  object \n",
      " 28  StratificationID1           250937 non-null  object \n",
      " 29  StratificationCategoryID2   250937 non-null  object \n",
      " 30  StratificationID2           250937 non-null  object \n",
      "dtypes: float64(2), int64(3), object(26)\n",
      "memory usage: 59.3+ MB\n"
     ]
    }
   ],
   "source": [
    "df.info()"
   ]
  },
  {
   "cell_type": "code",
   "execution_count": 8,
   "id": "319cad7f",
   "metadata": {},
   "outputs": [
    {
     "data": {
      "text/html": [
       "<div>\n",
       "<style scoped>\n",
       "    .dataframe tbody tr th:only-of-type {\n",
       "        vertical-align: middle;\n",
       "    }\n",
       "\n",
       "    .dataframe tbody tr th {\n",
       "        vertical-align: top;\n",
       "    }\n",
       "\n",
       "    .dataframe thead th {\n",
       "        text-align: right;\n",
       "    }\n",
       "</style>\n",
       "<table border=\"1\" class=\"dataframe\">\n",
       "  <thead>\n",
       "    <tr style=\"text-align: right;\">\n",
       "      <th></th>\n",
       "      <th>RowId</th>\n",
       "      <th>YearStart</th>\n",
       "      <th>YearEnd</th>\n",
       "      <th>LocationAbbr</th>\n",
       "      <th>LocationDesc</th>\n",
       "      <th>Datasource</th>\n",
       "      <th>Class</th>\n",
       "      <th>Topic</th>\n",
       "      <th>Question</th>\n",
       "      <th>Data_Value_Unit</th>\n",
       "      <th>...</th>\n",
       "      <th>Stratification2</th>\n",
       "      <th>Geolocation</th>\n",
       "      <th>ClassID</th>\n",
       "      <th>TopicID</th>\n",
       "      <th>QuestionID</th>\n",
       "      <th>LocationID</th>\n",
       "      <th>StratificationCategoryID1</th>\n",
       "      <th>StratificationID1</th>\n",
       "      <th>StratificationCategoryID2</th>\n",
       "      <th>StratificationID2</th>\n",
       "    </tr>\n",
       "  </thead>\n",
       "  <tbody>\n",
       "    <tr>\n",
       "      <th>0</th>\n",
       "      <td>BRFSS~2015~2015~9003~Q43~TOC11~AGE~OVERALL</td>\n",
       "      <td>2015</td>\n",
       "      <td>2015</td>\n",
       "      <td>SOU</td>\n",
       "      <td>South</td>\n",
       "      <td>BRFSS</td>\n",
       "      <td>Overall Health</td>\n",
       "      <td>Arthritis among older adults</td>\n",
       "      <td>Percentage of older adults ever told they have...</td>\n",
       "      <td>%</td>\n",
       "      <td>...</td>\n",
       "      <td>NaN</td>\n",
       "      <td>NaN</td>\n",
       "      <td>C01</td>\n",
       "      <td>TOC11</td>\n",
       "      <td>Q43</td>\n",
       "      <td>9003</td>\n",
       "      <td>AGE</td>\n",
       "      <td>5064</td>\n",
       "      <td>OVERALL</td>\n",
       "      <td>OVERALL</td>\n",
       "    </tr>\n",
       "  </tbody>\n",
       "</table>\n",
       "<p>1 rows × 31 columns</p>\n",
       "</div>"
      ],
      "text/plain": [
       "                                        RowId  YearStart  YearEnd  \\\n",
       "0  BRFSS~2015~2015~9003~Q43~TOC11~AGE~OVERALL       2015     2015   \n",
       "\n",
       "  LocationAbbr LocationDesc Datasource           Class  \\\n",
       "0          SOU        South      BRFSS  Overall Health   \n",
       "\n",
       "                          Topic  \\\n",
       "0  Arthritis among older adults   \n",
       "\n",
       "                                            Question Data_Value_Unit  ...  \\\n",
       "0  Percentage of older adults ever told they have...               %  ...   \n",
       "\n",
       "  Stratification2 Geolocation  ClassID  TopicID QuestionID LocationID  \\\n",
       "0             NaN         NaN      C01    TOC11        Q43       9003   \n",
       "\n",
       "  StratificationCategoryID1 StratificationID1 StratificationCategoryID2  \\\n",
       "0                       AGE              5064                   OVERALL   \n",
       "\n",
       "  StratificationID2  \n",
       "0           OVERALL  \n",
       "\n",
       "[1 rows x 31 columns]"
      ]
     },
     "execution_count": 8,
     "metadata": {},
     "output_type": "execute_result"
    }
   ],
   "source": [
    "df.head(1)"
   ]
  },
  {
   "cell_type": "markdown",
   "id": "4e786aee",
   "metadata": {},
   "source": [
    "<b> Due to the Limited Usefulness of the 'RowId', Drop the Column </b>"
   ]
  },
  {
   "cell_type": "code",
   "execution_count": 9,
   "id": "010e817c",
   "metadata": {},
   "outputs": [],
   "source": [
    "df = df.drop('RowId', axis = 1)"
   ]
  },
  {
   "cell_type": "markdown",
   "id": "d3671993",
   "metadata": {},
   "source": [
    "<b> Retrieve the Unique Values from All Columns </b>"
   ]
  },
  {
   "cell_type": "code",
   "execution_count": 10,
   "id": "2c78e6fb",
   "metadata": {},
   "outputs": [
    {
     "data": {
      "text/plain": [
       "array([2015, 2021, 2020, 2016, 2019, 2017, 2018], dtype=int64)"
      ]
     },
     "execution_count": 10,
     "metadata": {},
     "output_type": "execute_result"
    }
   ],
   "source": [
    "df['YearStart'].unique()"
   ]
  },
  {
   "cell_type": "code",
   "execution_count": 11,
   "id": "fc2b4d3e",
   "metadata": {},
   "outputs": [
    {
     "data": {
      "text/plain": [
       "array([2015, 2021, 2020, 2016, 2019, 2017, 2018], dtype=int64)"
      ]
     },
     "execution_count": 11,
     "metadata": {},
     "output_type": "execute_result"
    }
   ],
   "source": [
    "df['YearEnd'].unique()"
   ]
  },
  {
   "cell_type": "code",
   "execution_count": 12,
   "id": "90b8476d",
   "metadata": {},
   "outputs": [
    {
     "data": {
      "text/plain": [
       "array(['SOU', 'AL', 'OR', 'NE', 'IN', 'AZ', 'OH', 'VT', 'UT', 'WI', 'GA',\n",
       "       'IA', 'NRE', 'NC', 'TN', 'SD', 'NV', 'MDW', 'MN', 'CO', 'ID',\n",
       "       'WEST', 'VI', 'CA', 'AR', 'FL', 'DE', 'CT', 'HI', 'GU', 'KS', 'IL',\n",
       "       'LA', 'MD', 'KY', 'MA', 'ME', 'MI', 'MT', 'MS', 'MO', 'NH', 'NJ',\n",
       "       'US', 'ND', 'NM', 'NY', 'PR', 'PA', 'RI', 'TX', 'VA', 'WA', 'WV',\n",
       "       'WY', 'OK', 'DC', 'AK', 'SC'], dtype=object)"
      ]
     },
     "execution_count": 12,
     "metadata": {},
     "output_type": "execute_result"
    }
   ],
   "source": [
    "df['LocationAbbr'].unique()"
   ]
  },
  {
   "cell_type": "code",
   "execution_count": 13,
   "id": "a884d020",
   "metadata": {},
   "outputs": [
    {
     "data": {
      "text/plain": [
       "array(['South', 'Alabama', 'Oregon', 'Nebraska', 'Indiana', 'Arizona',\n",
       "       'Ohio', 'Vermont', 'Utah', 'Wisconsin', 'Georgia', 'Iowa',\n",
       "       'Northeast', 'North Carolina', 'Tennessee', 'South Dakota',\n",
       "       'Nevada', 'Midwest', 'Minnesota', 'Colorado', 'Idaho', 'West',\n",
       "       'Virgin Islands', 'California', 'Arkansas', 'Florida', 'Delaware',\n",
       "       'Connecticut', 'Hawaii', 'Guam', 'Kansas', 'Illinois', 'Louisiana',\n",
       "       'Maryland', 'Kentucky', 'Massachusetts', 'Maine', 'Michigan',\n",
       "       'Montana', 'Mississippi', 'Missouri', 'New Hampshire',\n",
       "       'New Jersey', 'United States, DC & Territories', 'North Dakota',\n",
       "       'New Mexico', 'New York', 'Puerto Rico', 'Pennsylvania',\n",
       "       'Rhode Island', 'Texas', 'Virginia', 'Washington', 'West Virginia',\n",
       "       'Wyoming', 'Oklahoma', 'District of Columbia', 'Alaska',\n",
       "       'South Carolina'], dtype=object)"
      ]
     },
     "execution_count": 13,
     "metadata": {},
     "output_type": "execute_result"
    }
   ],
   "source": [
    "df['LocationDesc'].unique()"
   ]
  },
  {
   "cell_type": "code",
   "execution_count": 14,
   "id": "77c55ff9",
   "metadata": {},
   "outputs": [
    {
     "data": {
      "text/plain": [
       "array(['BRFSS'], dtype=object)"
      ]
     },
     "execution_count": 14,
     "metadata": {},
     "output_type": "execute_result"
    }
   ],
   "source": [
    "df['Datasource'].unique()"
   ]
  },
  {
   "cell_type": "markdown",
   "id": "60987a51",
   "metadata": {},
   "source": [
    "<b> Due to the Limited Usefulness of the 'Datasource', Drop the Column </b>"
   ]
  },
  {
   "cell_type": "code",
   "execution_count": 15,
   "id": "8bb93846",
   "metadata": {},
   "outputs": [],
   "source": [
    "df = df.drop('Datasource', axis = 1)"
   ]
  },
  {
   "cell_type": "code",
   "execution_count": 16,
   "id": "06f39494",
   "metadata": {},
   "outputs": [
    {
     "name": "stdout",
     "output_type": "stream",
     "text": [
      "<class 'pandas.core.frame.DataFrame'>\n",
      "RangeIndex: 250937 entries, 0 to 250936\n",
      "Data columns (total 29 columns):\n",
      " #   Column                      Non-Null Count   Dtype  \n",
      "---  ------                      --------------   -----  \n",
      " 0   YearStart                   250937 non-null  int64  \n",
      " 1   YearEnd                     250937 non-null  int64  \n",
      " 2   LocationAbbr                250937 non-null  object \n",
      " 3   LocationDesc                250937 non-null  object \n",
      " 4   Class                       250937 non-null  object \n",
      " 5   Topic                       250937 non-null  object \n",
      " 6   Question                    250937 non-null  object \n",
      " 7   Data_Value_Unit             250937 non-null  object \n",
      " 8   DataValueTypeID             250937 non-null  object \n",
      " 9   Data_Value_Type             250937 non-null  object \n",
      " 10  Data_Value                  169302 non-null  float64\n",
      " 11  Data_Value_Alt              169302 non-null  float64\n",
      " 12  Data_Value_Footnote_Symbol  99114 non-null   object \n",
      " 13  Data_Value_Footnote         99114 non-null   object \n",
      " 14  Low_Confidence_Limit        169152 non-null  object \n",
      " 15  High_Confidence_Limit       169152 non-null  object \n",
      " 16  StratificationCategory1     250937 non-null  object \n",
      " 17  Stratification1             250937 non-null  object \n",
      " 18  StratificationCategory2     218561 non-null  object \n",
      " 19  Stratification2             218561 non-null  object \n",
      " 20  Geolocation                 224228 non-null  object \n",
      " 21  ClassID                     250937 non-null  object \n",
      " 22  TopicID                     250937 non-null  object \n",
      " 23  QuestionID                  250937 non-null  object \n",
      " 24  LocationID                  250937 non-null  int64  \n",
      " 25  StratificationCategoryID1   250937 non-null  object \n",
      " 26  StratificationID1           250937 non-null  object \n",
      " 27  StratificationCategoryID2   250937 non-null  object \n",
      " 28  StratificationID2           250937 non-null  object \n",
      "dtypes: float64(2), int64(3), object(24)\n",
      "memory usage: 55.5+ MB\n"
     ]
    }
   ],
   "source": [
    "df.info()"
   ]
  },
  {
   "cell_type": "code",
   "execution_count": 17,
   "id": "8d5668ec",
   "metadata": {},
   "outputs": [
    {
     "data": {
      "text/plain": [
       "array(['Overall Health', 'Mental Health',\n",
       "       'Nutrition/Physical Activity/Obesity', 'Caregiving',\n",
       "       'Screenings and Vaccines', 'Smoking and Alcohol Use',\n",
       "       'Cognitive Decline'], dtype=object)"
      ]
     },
     "execution_count": 17,
     "metadata": {},
     "output_type": "execute_result"
    }
   ],
   "source": [
    "df['Class'].unique()"
   ]
  },
  {
   "cell_type": "code",
   "execution_count": 18,
   "id": "0151ce56",
   "metadata": {},
   "outputs": [
    {
     "data": {
      "text/plain": [
       "array(['Arthritis among older adults', 'Frequent mental distress',\n",
       "       'Lifetime diagnosis of depression',\n",
       "       'Recent activity limitations in past month',\n",
       "       'Fall with injury within last year',\n",
       "       'Eating 3 or more vegetables daily',\n",
       "       'Fair or poor health among older adults with arthritis',\n",
       "       'Intensity of caregiving among older adults',\n",
       "       'Influenza vaccine within past year',\n",
       "       'Self-rated health (fair to poor health)',\n",
       "       'Severe joint pain among older adults with arthritis',\n",
       "       'Physically unhealthy days (mean number of days)', 'Obesity',\n",
       "       'Prevalence of sufficient sleep',\n",
       "       'Binge drinking within past 30 days',\n",
       "       'Eating 2 or more fruits daily',\n",
       "       'Cholesterol checked in past 5 years',\n",
       "       'Ever had pneumococcal vaccine',\n",
       "       'Disability status, including sensory or mobility limitations',\n",
       "       'Taking medication for high blood pressure',\n",
       "       'No leisure-time physical activity within past month',\n",
       "       'Duration of caregiving among older adults',\n",
       "       'Self-rated health (good to excellent health)', 'Current smoking',\n",
       "       'Functional difficulties associated with subjective cognitive decline or memory loss among older adults',\n",
       "       'Subjective cognitive decline or memory loss among older adults',\n",
       "       'Need assistance with day-to-day activities because of subjective cognitive decline or memory loss',\n",
       "       'High blood pressure ever',\n",
       "       'Diabetes screening within past 3 years',\n",
       "       'Talked with health care professional about subjective cognitive decline or memory loss',\n",
       "       'Provide care for someone with cognitive impairment within the past month',\n",
       "       'Provide care for a friend or family member in past month',\n",
       "       'Expect to provide care for someone in the next two years',\n",
       "       'Oral health:  tooth retention', 'Pap test within past 3 years',\n",
       "       'Colorectal cancer screening',\n",
       "       'Up-to-date with recommended vaccines and screenings - Men',\n",
       "       'Mammogram within past 2 years',\n",
       "       'Up-to-date with recommended vaccines and screenings - Women'],\n",
       "      dtype=object)"
      ]
     },
     "execution_count": 18,
     "metadata": {},
     "output_type": "execute_result"
    }
   ],
   "source": [
    "df['Topic'].unique()"
   ]
  },
  {
   "cell_type": "code",
   "execution_count": 19,
   "id": "38c0ec8d",
   "metadata": {},
   "outputs": [
    {
     "data": {
      "text/plain": [
       "array(['Percentage of older adults ever told they have arthritis',\n",
       "       'Percentage of older adults who are experiencing frequent mental distress',\n",
       "       'Percentage of older adults with a lifetime diagnosis of depression',\n",
       "       'Mean number of days with activity limitations in the past month',\n",
       "       'Percentage of older adults who have fallen and sustained an injury within last year',\n",
       "       'Percentage of older adults who are eating 3 or more vegetables daily',\n",
       "       'Fair or poor health among older adults with doctor-diagnosed arthritis',\n",
       "       'Average of 20 or more hours of care per week provided to a friend or family member',\n",
       "       'Percentage of older adults who reported influenza vaccine within the past year',\n",
       "       'Percentage of older adults who self-reported that their health is \"fair\" or \"poor\"',\n",
       "       'Severe joint pain due to arthritis among older adults with doctor-diagnosed arthritis',\n",
       "       'Physically unhealthy days (mean number of days in past month)',\n",
       "       'Percentage of older adults who are currently obese, with a body mass index (BMI) of 30 or more',\n",
       "       'Percentage of older adults getting sufficient sleep (>6 hours)',\n",
       "       'Percentage of older adults who reported binge drinking within the past 30 days',\n",
       "       'Percentage of older adults who are eating 2 or more fruits daily',\n",
       "       'Percentage of older adults who had a cholesterol screening within the past 5 years',\n",
       "       'Percentage of at risk adults (have diabetes, asthma, cardiovascular disease or currently smoke) who ever had a pneumococcal vaccine',\n",
       "       'Percentage of older adults who report having a disability (includes limitations related to sensory or mobility impairments or a physical, mental, or emotional condition)',\n",
       "       'Percentage of older adults who have been told they have high blood pressure who report currently taking medication for their high blood pressure',\n",
       "       'Percentage of older adults who have not had any leisure time physical activity in the past month',\n",
       "       'Percentage of older adults who provided care to a friend or family member for six months or more',\n",
       "       'Percentage of older adults who self-reported that their health is \"good\", \"very good\", or \"excellent\"',\n",
       "       'Percentage of older adults who have smoked at least 100 cigarettes in their entire life and still smoke every day or some days',\n",
       "       'Percentage of older adults who reported subjective cognitive decline or memory loss that interferes with their ability to engage in social activities or household chores',\n",
       "       'Percentage of older adults who reported subjective cognitive decline or memory loss that is happening more often or is getting worse in the preceding 12 months',\n",
       "       'Percentage of older adults who reported that as a result of subjective cognitive decline or memory loss that they need assistance with day-to-day activities',\n",
       "       'Percentage of older adults who have ever been told by a health professional that they have high blood pressure',\n",
       "       'Percentage of older adults without diabetes who reported a blood sugar or diabetes test within 3 years',\n",
       "       'Percentage of older adults with subjective cognitive decline or memory loss who reported talking with a health care professional about it',\n",
       "       'Percentage of older adults who provided care for someone with dementia or other cognitive impairment within the past month',\n",
       "       'Percentage of older adults who provided care for a friend or family member within the past month',\n",
       "       'Percentage of older adults currently not providing care who expect to provide care for someone with health problems in the next two years',\n",
       "       'Percentage of older adults who report having lost 5 or fewer teeth due to decay or gum disease',\n",
       "       'Percentage of older adult women with an intact cervix who had a Pap test within the past 3 years',\n",
       "       'Percentage of older adults who had either a home blood stool test within the past year or a sigmoidoscopy or colonoscopy within the past 10 years',\n",
       "       'Percentage of older adult men who are up to date with select clinical preventive services',\n",
       "       'Percentage of older adult women who have received a mammogram within the past 2 years',\n",
       "       'Percentage of older adult women who are up to date with select clinical preventive services'],\n",
       "      dtype=object)"
      ]
     },
     "execution_count": 19,
     "metadata": {},
     "output_type": "execute_result"
    }
   ],
   "source": [
    "df['Question'].unique()"
   ]
  },
  {
   "cell_type": "code",
   "execution_count": 20,
   "id": "ca327701",
   "metadata": {},
   "outputs": [
    {
     "data": {
      "text/plain": [
       "array(['%', 'Number'], dtype=object)"
      ]
     },
     "execution_count": 20,
     "metadata": {},
     "output_type": "execute_result"
    }
   ],
   "source": [
    "df['Data_Value_Unit'].unique()"
   ]
  },
  {
   "cell_type": "code",
   "execution_count": 21,
   "id": "1bbe374a",
   "metadata": {},
   "outputs": [
    {
     "data": {
      "text/plain": [
       "array(['PRCTG', 'MEAN'], dtype=object)"
      ]
     },
     "execution_count": 21,
     "metadata": {},
     "output_type": "execute_result"
    }
   ],
   "source": [
    "df['DataValueTypeID'].unique()"
   ]
  },
  {
   "cell_type": "code",
   "execution_count": 22,
   "id": "fccb6395",
   "metadata": {},
   "outputs": [
    {
     "data": {
      "text/plain": [
       "array(['Percentage', 'Mean'], dtype=object)"
      ]
     },
     "execution_count": 22,
     "metadata": {},
     "output_type": "execute_result"
    }
   ],
   "source": [
    "df['Data_Value_Type'].unique()"
   ]
  },
  {
   "cell_type": "markdown",
   "id": "49207601",
   "metadata": {},
   "source": [
    "<b> Since the 'Data_Value_Type' Provides Redundant Information Already Present in the 'DataValueTypeID', Drop It </b>"
   ]
  },
  {
   "cell_type": "code",
   "execution_count": 23,
   "id": "b15e2f7d",
   "metadata": {},
   "outputs": [],
   "source": [
    "df = df.drop('Data_Value_Type', axis = 1)"
   ]
  },
  {
   "cell_type": "code",
   "execution_count": 24,
   "id": "24fb9e28",
   "metadata": {},
   "outputs": [
    {
     "name": "stdout",
     "output_type": "stream",
     "text": [
      "<class 'pandas.core.frame.DataFrame'>\n",
      "RangeIndex: 250937 entries, 0 to 250936\n",
      "Data columns (total 28 columns):\n",
      " #   Column                      Non-Null Count   Dtype  \n",
      "---  ------                      --------------   -----  \n",
      " 0   YearStart                   250937 non-null  int64  \n",
      " 1   YearEnd                     250937 non-null  int64  \n",
      " 2   LocationAbbr                250937 non-null  object \n",
      " 3   LocationDesc                250937 non-null  object \n",
      " 4   Class                       250937 non-null  object \n",
      " 5   Topic                       250937 non-null  object \n",
      " 6   Question                    250937 non-null  object \n",
      " 7   Data_Value_Unit             250937 non-null  object \n",
      " 8   DataValueTypeID             250937 non-null  object \n",
      " 9   Data_Value                  169302 non-null  float64\n",
      " 10  Data_Value_Alt              169302 non-null  float64\n",
      " 11  Data_Value_Footnote_Symbol  99114 non-null   object \n",
      " 12  Data_Value_Footnote         99114 non-null   object \n",
      " 13  Low_Confidence_Limit        169152 non-null  object \n",
      " 14  High_Confidence_Limit       169152 non-null  object \n",
      " 15  StratificationCategory1     250937 non-null  object \n",
      " 16  Stratification1             250937 non-null  object \n",
      " 17  StratificationCategory2     218561 non-null  object \n",
      " 18  Stratification2             218561 non-null  object \n",
      " 19  Geolocation                 224228 non-null  object \n",
      " 20  ClassID                     250937 non-null  object \n",
      " 21  TopicID                     250937 non-null  object \n",
      " 22  QuestionID                  250937 non-null  object \n",
      " 23  LocationID                  250937 non-null  int64  \n",
      " 24  StratificationCategoryID1   250937 non-null  object \n",
      " 25  StratificationID1           250937 non-null  object \n",
      " 26  StratificationCategoryID2   250937 non-null  object \n",
      " 27  StratificationID2           250937 non-null  object \n",
      "dtypes: float64(2), int64(3), object(23)\n",
      "memory usage: 53.6+ MB\n"
     ]
    }
   ],
   "source": [
    "df.info()"
   ]
  },
  {
   "cell_type": "code",
   "execution_count": 25,
   "id": "eea3878c",
   "metadata": {},
   "outputs": [
    {
     "data": {
      "text/plain": [
       "array([36.8, 15.5, 23.5, ...,  0.3,  0.6,  0.2])"
      ]
     },
     "execution_count": 25,
     "metadata": {},
     "output_type": "execute_result"
    }
   ],
   "source": [
    "df['Data_Value'].unique()"
   ]
  },
  {
   "cell_type": "markdown",
   "id": "c8b684f7",
   "metadata": {},
   "source": [
    "<b> Verify Whether the 'Data_Value' Contains a String Data Type </b>"
   ]
  },
  {
   "cell_type": "code",
   "execution_count": 26,
   "id": "1de47214",
   "metadata": {},
   "outputs": [
    {
     "name": "stdout",
     "output_type": "stream",
     "text": [
      "The list does not contain a string.\n"
     ]
    }
   ],
   "source": [
    "lst = list(df['Data_Value'].unique())\n",
    "has_string = False\n",
    "\n",
    "for element in lst:\n",
    "    if type(element) == str:\n",
    "        has_string = True\n",
    "        break\n",
    "\n",
    "if has_string:\n",
    "    print(\"The list contains a string.\")\n",
    "else:\n",
    "    print(\"The list does not contain a string.\")"
   ]
  },
  {
   "cell_type": "markdown",
   "id": "400f5735",
   "metadata": {},
   "source": [
    "<b> Count the Number of Null Values in the 'Data_Value' </b>"
   ]
  },
  {
   "cell_type": "code",
   "execution_count": 27,
   "id": "a9d5f0e1",
   "metadata": {},
   "outputs": [
    {
     "data": {
      "text/plain": [
       "81635"
      ]
     },
     "execution_count": 27,
     "metadata": {},
     "output_type": "execute_result"
    }
   ],
   "source": [
    "df['Data_Value'].isnull().sum()"
   ]
  },
  {
   "cell_type": "code",
   "execution_count": 28,
   "id": "8eae2f9b",
   "metadata": {},
   "outputs": [
    {
     "data": {
      "text/plain": [
       "array([36.8, 15.5, 23.5, ...,  0.3,  0.6,  0.2])"
      ]
     },
     "execution_count": 28,
     "metadata": {},
     "output_type": "execute_result"
    }
   ],
   "source": [
    "df['Data_Value_Alt'].unique()"
   ]
  },
  {
   "cell_type": "markdown",
   "id": "3eec34f5",
   "metadata": {},
   "source": [
    "<b> Verify Whether the 'Data_Value_Alt' Contains a String Data Type </b>"
   ]
  },
  {
   "cell_type": "code",
   "execution_count": 29,
   "id": "2713dc8b",
   "metadata": {},
   "outputs": [
    {
     "name": "stdout",
     "output_type": "stream",
     "text": [
      "The list does not contain a string.\n"
     ]
    }
   ],
   "source": [
    "lst = list(df['Data_Value_Alt'].unique())\n",
    "has_string = False\n",
    "\n",
    "for element in lst:\n",
    "    if type(element) == str:\n",
    "        has_string = True\n",
    "        break\n",
    "\n",
    "if has_string:\n",
    "    print(\"The list contains a string.\")\n",
    "else:\n",
    "    print(\"The list does not contain a string.\")"
   ]
  },
  {
   "cell_type": "markdown",
   "id": "e72339ce",
   "metadata": {},
   "source": [
    "<b> Verify Whether Those 2 Columns Have Same Values </b>"
   ]
  },
  {
   "cell_type": "code",
   "execution_count": 30,
   "id": "2e15acaa",
   "metadata": {},
   "outputs": [
    {
     "data": {
      "text/html": [
       "<div>\n",
       "<style scoped>\n",
       "    .dataframe tbody tr th:only-of-type {\n",
       "        vertical-align: middle;\n",
       "    }\n",
       "\n",
       "    .dataframe tbody tr th {\n",
       "        vertical-align: top;\n",
       "    }\n",
       "\n",
       "    .dataframe thead th {\n",
       "        text-align: right;\n",
       "    }\n",
       "</style>\n",
       "<table border=\"1\" class=\"dataframe\">\n",
       "  <thead>\n",
       "    <tr style=\"text-align: right;\">\n",
       "      <th></th>\n",
       "      <th>Data_Value</th>\n",
       "      <th>Data_Value_Alt</th>\n",
       "    </tr>\n",
       "  </thead>\n",
       "  <tbody>\n",
       "    <tr>\n",
       "      <th>0</th>\n",
       "      <td>36.8</td>\n",
       "      <td>36.8</td>\n",
       "    </tr>\n",
       "    <tr>\n",
       "      <th>1</th>\n",
       "      <td>15.5</td>\n",
       "      <td>15.5</td>\n",
       "    </tr>\n",
       "    <tr>\n",
       "      <th>2</th>\n",
       "      <td>23.5</td>\n",
       "      <td>23.5</td>\n",
       "    </tr>\n",
       "    <tr>\n",
       "      <th>3</th>\n",
       "      <td>13.6</td>\n",
       "      <td>13.6</td>\n",
       "    </tr>\n",
       "    <tr>\n",
       "      <th>4</th>\n",
       "      <td>25.5</td>\n",
       "      <td>25.5</td>\n",
       "    </tr>\n",
       "    <tr>\n",
       "      <th>...</th>\n",
       "      <td>...</td>\n",
       "      <td>...</td>\n",
       "    </tr>\n",
       "    <tr>\n",
       "      <th>250932</th>\n",
       "      <td>92.2</td>\n",
       "      <td>92.2</td>\n",
       "    </tr>\n",
       "    <tr>\n",
       "      <th>250933</th>\n",
       "      <td>NaN</td>\n",
       "      <td>NaN</td>\n",
       "    </tr>\n",
       "    <tr>\n",
       "      <th>250934</th>\n",
       "      <td>18.9</td>\n",
       "      <td>18.9</td>\n",
       "    </tr>\n",
       "    <tr>\n",
       "      <th>250935</th>\n",
       "      <td>64.1</td>\n",
       "      <td>64.1</td>\n",
       "    </tr>\n",
       "    <tr>\n",
       "      <th>250936</th>\n",
       "      <td>NaN</td>\n",
       "      <td>NaN</td>\n",
       "    </tr>\n",
       "  </tbody>\n",
       "</table>\n",
       "<p>250937 rows × 2 columns</p>\n",
       "</div>"
      ],
      "text/plain": [
       "        Data_Value  Data_Value_Alt\n",
       "0             36.8            36.8\n",
       "1             15.5            15.5\n",
       "2             23.5            23.5\n",
       "3             13.6            13.6\n",
       "4             25.5            25.5\n",
       "...            ...             ...\n",
       "250932        92.2            92.2\n",
       "250933         NaN             NaN\n",
       "250934        18.9            18.9\n",
       "250935        64.1            64.1\n",
       "250936         NaN             NaN\n",
       "\n",
       "[250937 rows x 2 columns]"
      ]
     },
     "execution_count": 30,
     "metadata": {},
     "output_type": "execute_result"
    }
   ],
   "source": [
    "df[['Data_Value', 'Data_Value_Alt']]"
   ]
  },
  {
   "cell_type": "code",
   "execution_count": 31,
   "id": "c23eaec0",
   "metadata": {},
   "outputs": [
    {
     "name": "stdout",
     "output_type": "stream",
     "text": [
      "81635\n"
     ]
    }
   ],
   "source": [
    "count_false = len(df[(df['Data_Value'] == df['Data_Value_Alt']) == False])\n",
    "print(count_false)"
   ]
  },
  {
   "cell_type": "markdown",
   "id": "b8ff150b",
   "metadata": {},
   "source": [
    "<b> Since the 'Data_Value_Alt' Provides Redundant Information Already Present in the 'Data_Value', Drop It </b>"
   ]
  },
  {
   "cell_type": "code",
   "execution_count": 32,
   "id": "19ffe403",
   "metadata": {},
   "outputs": [],
   "source": [
    "df = df.drop('Data_Value_Alt', axis = 1)"
   ]
  },
  {
   "cell_type": "code",
   "execution_count": 33,
   "id": "a053feec",
   "metadata": {},
   "outputs": [
    {
     "name": "stdout",
     "output_type": "stream",
     "text": [
      "<class 'pandas.core.frame.DataFrame'>\n",
      "RangeIndex: 250937 entries, 0 to 250936\n",
      "Data columns (total 27 columns):\n",
      " #   Column                      Non-Null Count   Dtype  \n",
      "---  ------                      --------------   -----  \n",
      " 0   YearStart                   250937 non-null  int64  \n",
      " 1   YearEnd                     250937 non-null  int64  \n",
      " 2   LocationAbbr                250937 non-null  object \n",
      " 3   LocationDesc                250937 non-null  object \n",
      " 4   Class                       250937 non-null  object \n",
      " 5   Topic                       250937 non-null  object \n",
      " 6   Question                    250937 non-null  object \n",
      " 7   Data_Value_Unit             250937 non-null  object \n",
      " 8   DataValueTypeID             250937 non-null  object \n",
      " 9   Data_Value                  169302 non-null  float64\n",
      " 10  Data_Value_Footnote_Symbol  99114 non-null   object \n",
      " 11  Data_Value_Footnote         99114 non-null   object \n",
      " 12  Low_Confidence_Limit        169152 non-null  object \n",
      " 13  High_Confidence_Limit       169152 non-null  object \n",
      " 14  StratificationCategory1     250937 non-null  object \n",
      " 15  Stratification1             250937 non-null  object \n",
      " 16  StratificationCategory2     218561 non-null  object \n",
      " 17  Stratification2             218561 non-null  object \n",
      " 18  Geolocation                 224228 non-null  object \n",
      " 19  ClassID                     250937 non-null  object \n",
      " 20  TopicID                     250937 non-null  object \n",
      " 21  QuestionID                  250937 non-null  object \n",
      " 22  LocationID                  250937 non-null  int64  \n",
      " 23  StratificationCategoryID1   250937 non-null  object \n",
      " 24  StratificationID1           250937 non-null  object \n",
      " 25  StratificationCategoryID2   250937 non-null  object \n",
      " 26  StratificationID2           250937 non-null  object \n",
      "dtypes: float64(1), int64(3), object(23)\n",
      "memory usage: 51.7+ MB\n"
     ]
    }
   ],
   "source": [
    "df.info()"
   ]
  },
  {
   "cell_type": "code",
   "execution_count": 34,
   "id": "31ea069c",
   "metadata": {},
   "outputs": [
    {
     "data": {
      "text/plain": [
       "array([nan, '~', '****', '**', '#', '&'], dtype=object)"
      ]
     },
     "execution_count": 34,
     "metadata": {},
     "output_type": "execute_result"
    }
   ],
   "source": [
    "df['Data_Value_Footnote_Symbol'].unique()"
   ]
  },
  {
   "cell_type": "markdown",
   "id": "525f1f40",
   "metadata": {},
   "source": [
    "<b> Verify Whether the 'Data_Value_Footnote_Symbol' Contains a String Data Type </b>"
   ]
  },
  {
   "cell_type": "code",
   "execution_count": 35,
   "id": "7e5f8724",
   "metadata": {},
   "outputs": [
    {
     "data": {
      "text/plain": [
       "151823"
      ]
     },
     "execution_count": 35,
     "metadata": {},
     "output_type": "execute_result"
    }
   ],
   "source": [
    "df['Data_Value_Footnote_Symbol'].isnull().sum()"
   ]
  },
  {
   "cell_type": "code",
   "execution_count": 36,
   "id": "1333e46f",
   "metadata": {},
   "outputs": [
    {
     "data": {
      "text/plain": [
       "array([nan, 'No Data Available',\n",
       "       'Sample size of denominator and/or age group for age-standardization is less than 50 or relative standard error is more than 30%',\n",
       "       'Estimate is not comparable to those generated using data from years prior to 2019 due to survey question changes',\n",
       "       'Fewer than 50 States reporting',\n",
       "       'Regional estimates may not represent all states in the region'],\n",
       "      dtype=object)"
      ]
     },
     "execution_count": 36,
     "metadata": {},
     "output_type": "execute_result"
    }
   ],
   "source": [
    "df['Data_Value_Footnote'].unique()"
   ]
  },
  {
   "cell_type": "markdown",
   "id": "7fb705ae",
   "metadata": {},
   "source": [
    "<b> Verify Whether the 'Data_Value_Footnote' Contains a String Data Type </b>"
   ]
  },
  {
   "cell_type": "code",
   "execution_count": 37,
   "id": "27d01f48",
   "metadata": {},
   "outputs": [
    {
     "data": {
      "text/plain": [
       "151823"
      ]
     },
     "execution_count": 37,
     "metadata": {},
     "output_type": "execute_result"
    }
   ],
   "source": [
    "df['Data_Value_Footnote'].isnull().sum()"
   ]
  },
  {
   "cell_type": "code",
   "execution_count": 38,
   "id": "1ff8c81d",
   "metadata": {},
   "outputs": [
    {
     "data": {
      "text/plain": [
       "array(['Age Group'], dtype=object)"
      ]
     },
     "execution_count": 38,
     "metadata": {},
     "output_type": "execute_result"
    }
   ],
   "source": [
    "df['StratificationCategory1'].unique()"
   ]
  },
  {
   "cell_type": "markdown",
   "id": "db1de384",
   "metadata": {},
   "source": [
    "<b> Due to the Limited Usefulness of the 'StratificationCategory1', Drop the Column </b>"
   ]
  },
  {
   "cell_type": "code",
   "execution_count": 39,
   "id": "9af92b7b",
   "metadata": {},
   "outputs": [],
   "source": [
    "df = df.drop('StratificationCategory1', axis = 1)"
   ]
  },
  {
   "cell_type": "code",
   "execution_count": 40,
   "id": "c2dbca99",
   "metadata": {},
   "outputs": [
    {
     "name": "stdout",
     "output_type": "stream",
     "text": [
      "<class 'pandas.core.frame.DataFrame'>\n",
      "RangeIndex: 250937 entries, 0 to 250936\n",
      "Data columns (total 26 columns):\n",
      " #   Column                      Non-Null Count   Dtype  \n",
      "---  ------                      --------------   -----  \n",
      " 0   YearStart                   250937 non-null  int64  \n",
      " 1   YearEnd                     250937 non-null  int64  \n",
      " 2   LocationAbbr                250937 non-null  object \n",
      " 3   LocationDesc                250937 non-null  object \n",
      " 4   Class                       250937 non-null  object \n",
      " 5   Topic                       250937 non-null  object \n",
      " 6   Question                    250937 non-null  object \n",
      " 7   Data_Value_Unit             250937 non-null  object \n",
      " 8   DataValueTypeID             250937 non-null  object \n",
      " 9   Data_Value                  169302 non-null  float64\n",
      " 10  Data_Value_Footnote_Symbol  99114 non-null   object \n",
      " 11  Data_Value_Footnote         99114 non-null   object \n",
      " 12  Low_Confidence_Limit        169152 non-null  object \n",
      " 13  High_Confidence_Limit       169152 non-null  object \n",
      " 14  Stratification1             250937 non-null  object \n",
      " 15  StratificationCategory2     218561 non-null  object \n",
      " 16  Stratification2             218561 non-null  object \n",
      " 17  Geolocation                 224228 non-null  object \n",
      " 18  ClassID                     250937 non-null  object \n",
      " 19  TopicID                     250937 non-null  object \n",
      " 20  QuestionID                  250937 non-null  object \n",
      " 21  LocationID                  250937 non-null  int64  \n",
      " 22  StratificationCategoryID1   250937 non-null  object \n",
      " 23  StratificationID1           250937 non-null  object \n",
      " 24  StratificationCategoryID2   250937 non-null  object \n",
      " 25  StratificationID2           250937 non-null  object \n",
      "dtypes: float64(1), int64(3), object(22)\n",
      "memory usage: 49.8+ MB\n"
     ]
    }
   ],
   "source": [
    "df.info()"
   ]
  },
  {
   "cell_type": "code",
   "execution_count": 41,
   "id": "cedfad72",
   "metadata": {},
   "outputs": [
    {
     "data": {
      "text/plain": [
       "array(['50-64 years', 'Overall', '65 years or older'], dtype=object)"
      ]
     },
     "execution_count": 41,
     "metadata": {},
     "output_type": "execute_result"
    }
   ],
   "source": [
    "df['Stratification1'].unique()"
   ]
  },
  {
   "cell_type": "markdown",
   "id": "e49ce56d",
   "metadata": {},
   "source": [
    "<b> Make the Value Name Simpler </b>"
   ]
  },
  {
   "cell_type": "code",
   "execution_count": 42,
   "id": "afc9153e",
   "metadata": {},
   "outputs": [],
   "source": [
    "df['Stratification1'] = df['Stratification1'].replace(['50-64 years', '65 years or older'], ['50-64', '65+'])"
   ]
  },
  {
   "cell_type": "code",
   "execution_count": 43,
   "id": "40c3c23b",
   "metadata": {},
   "outputs": [
    {
     "data": {
      "text/plain": [
       "array(['50-64', 'Overall', '65+'], dtype=object)"
      ]
     },
     "execution_count": 43,
     "metadata": {},
     "output_type": "execute_result"
    }
   ],
   "source": [
    "df['Stratification1'].unique()"
   ]
  },
  {
   "cell_type": "markdown",
   "id": "8a01a9d1",
   "metadata": {},
   "source": [
    "<b> Change the Column Name into 'Age Group' </b>"
   ]
  },
  {
   "cell_type": "code",
   "execution_count": 44,
   "id": "6298c1c7",
   "metadata": {},
   "outputs": [],
   "source": [
    "df.rename(columns={'Stratification1': 'Age Group'}, inplace=True)"
   ]
  },
  {
   "cell_type": "code",
   "execution_count": 45,
   "id": "83e7c564",
   "metadata": {},
   "outputs": [
    {
     "name": "stdout",
     "output_type": "stream",
     "text": [
      "<class 'pandas.core.frame.DataFrame'>\n",
      "RangeIndex: 250937 entries, 0 to 250936\n",
      "Data columns (total 26 columns):\n",
      " #   Column                      Non-Null Count   Dtype  \n",
      "---  ------                      --------------   -----  \n",
      " 0   YearStart                   250937 non-null  int64  \n",
      " 1   YearEnd                     250937 non-null  int64  \n",
      " 2   LocationAbbr                250937 non-null  object \n",
      " 3   LocationDesc                250937 non-null  object \n",
      " 4   Class                       250937 non-null  object \n",
      " 5   Topic                       250937 non-null  object \n",
      " 6   Question                    250937 non-null  object \n",
      " 7   Data_Value_Unit             250937 non-null  object \n",
      " 8   DataValueTypeID             250937 non-null  object \n",
      " 9   Data_Value                  169302 non-null  float64\n",
      " 10  Data_Value_Footnote_Symbol  99114 non-null   object \n",
      " 11  Data_Value_Footnote         99114 non-null   object \n",
      " 12  Low_Confidence_Limit        169152 non-null  object \n",
      " 13  High_Confidence_Limit       169152 non-null  object \n",
      " 14  Age Group                   250937 non-null  object \n",
      " 15  StratificationCategory2     218561 non-null  object \n",
      " 16  Stratification2             218561 non-null  object \n",
      " 17  Geolocation                 224228 non-null  object \n",
      " 18  ClassID                     250937 non-null  object \n",
      " 19  TopicID                     250937 non-null  object \n",
      " 20  QuestionID                  250937 non-null  object \n",
      " 21  LocationID                  250937 non-null  int64  \n",
      " 22  StratificationCategoryID1   250937 non-null  object \n",
      " 23  StratificationID1           250937 non-null  object \n",
      " 24  StratificationCategoryID2   250937 non-null  object \n",
      " 25  StratificationID2           250937 non-null  object \n",
      "dtypes: float64(1), int64(3), object(22)\n",
      "memory usage: 49.8+ MB\n"
     ]
    }
   ],
   "source": [
    "df.info()"
   ]
  },
  {
   "cell_type": "code",
   "execution_count": 46,
   "id": "d4c3b26d",
   "metadata": {},
   "outputs": [
    {
     "data": {
      "text/plain": [
       "array([nan, 'Gender', 'Race/Ethnicity'], dtype=object)"
      ]
     },
     "execution_count": 46,
     "metadata": {},
     "output_type": "execute_result"
    }
   ],
   "source": [
    "df['StratificationCategory2'].unique()"
   ]
  },
  {
   "cell_type": "markdown",
   "id": "11bfd423",
   "metadata": {},
   "source": [
    "<b> Count the Number of Null Values in the 'StratificationCategory2' </b>"
   ]
  },
  {
   "cell_type": "code",
   "execution_count": 47,
   "id": "9ab30611",
   "metadata": {},
   "outputs": [
    {
     "data": {
      "text/plain": [
       "32376"
      ]
     },
     "execution_count": 47,
     "metadata": {},
     "output_type": "execute_result"
    }
   ],
   "source": [
    "df['StratificationCategory2'].isnull().sum()"
   ]
  },
  {
   "cell_type": "code",
   "execution_count": 48,
   "id": "c991fba0",
   "metadata": {},
   "outputs": [
    {
     "data": {
      "text/plain": [
       "array([nan, 'Female', 'Hispanic', 'Male', 'White, non-Hispanic',\n",
       "       'Native Am/Alaskan Native', 'Black, non-Hispanic',\n",
       "       'Asian/Pacific Islander'], dtype=object)"
      ]
     },
     "execution_count": 48,
     "metadata": {},
     "output_type": "execute_result"
    }
   ],
   "source": [
    "df['Stratification2'].unique()"
   ]
  },
  {
   "cell_type": "markdown",
   "id": "6d9b12c6",
   "metadata": {},
   "source": [
    "<b> Due to the Limited Usefulness of the 'StratificationCategory2', Drop the Column </b>"
   ]
  },
  {
   "cell_type": "code",
   "execution_count": 49,
   "id": "65765460",
   "metadata": {},
   "outputs": [],
   "source": [
    "df = df.drop('StratificationCategory2', axis = 1)"
   ]
  },
  {
   "cell_type": "markdown",
   "id": "f9513522",
   "metadata": {},
   "source": [
    "<b> Change the Column Name into 'Gender/Race' </b>"
   ]
  },
  {
   "cell_type": "code",
   "execution_count": 50,
   "id": "13737494",
   "metadata": {},
   "outputs": [],
   "source": [
    "df.rename(columns={'Stratification2': 'Gender/Race'}, inplace=True)"
   ]
  },
  {
   "cell_type": "code",
   "execution_count": 51,
   "id": "9d923ab4",
   "metadata": {},
   "outputs": [
    {
     "name": "stdout",
     "output_type": "stream",
     "text": [
      "<class 'pandas.core.frame.DataFrame'>\n",
      "RangeIndex: 250937 entries, 0 to 250936\n",
      "Data columns (total 25 columns):\n",
      " #   Column                      Non-Null Count   Dtype  \n",
      "---  ------                      --------------   -----  \n",
      " 0   YearStart                   250937 non-null  int64  \n",
      " 1   YearEnd                     250937 non-null  int64  \n",
      " 2   LocationAbbr                250937 non-null  object \n",
      " 3   LocationDesc                250937 non-null  object \n",
      " 4   Class                       250937 non-null  object \n",
      " 5   Topic                       250937 non-null  object \n",
      " 6   Question                    250937 non-null  object \n",
      " 7   Data_Value_Unit             250937 non-null  object \n",
      " 8   DataValueTypeID             250937 non-null  object \n",
      " 9   Data_Value                  169302 non-null  float64\n",
      " 10  Data_Value_Footnote_Symbol  99114 non-null   object \n",
      " 11  Data_Value_Footnote         99114 non-null   object \n",
      " 12  Low_Confidence_Limit        169152 non-null  object \n",
      " 13  High_Confidence_Limit       169152 non-null  object \n",
      " 14  Age Group                   250937 non-null  object \n",
      " 15  Gender/Race                 218561 non-null  object \n",
      " 16  Geolocation                 224228 non-null  object \n",
      " 17  ClassID                     250937 non-null  object \n",
      " 18  TopicID                     250937 non-null  object \n",
      " 19  QuestionID                  250937 non-null  object \n",
      " 20  LocationID                  250937 non-null  int64  \n",
      " 21  StratificationCategoryID1   250937 non-null  object \n",
      " 22  StratificationID1           250937 non-null  object \n",
      " 23  StratificationCategoryID2   250937 non-null  object \n",
      " 24  StratificationID2           250937 non-null  object \n",
      "dtypes: float64(1), int64(3), object(21)\n",
      "memory usage: 47.9+ MB\n"
     ]
    }
   ],
   "source": [
    "df.info()"
   ]
  },
  {
   "cell_type": "markdown",
   "id": "54988c1a",
   "metadata": {},
   "source": [
    "<b> Count the Number of Null Values in the 'Gender/Race' </b>"
   ]
  },
  {
   "cell_type": "code",
   "execution_count": 52,
   "id": "62f21f8a",
   "metadata": {},
   "outputs": [
    {
     "data": {
      "text/plain": [
       "32376"
      ]
     },
     "execution_count": 52,
     "metadata": {},
     "output_type": "execute_result"
    }
   ],
   "source": [
    "df['Gender/Race'].isnull().sum()"
   ]
  },
  {
   "cell_type": "code",
   "execution_count": 53,
   "id": "f7ec5e99",
   "metadata": {},
   "outputs": [
    {
     "data": {
      "text/plain": [
       "array([nan, 'POINT (-86.63186076199969 32.84057112200048)',\n",
       "       'POINT (-120.15503132599969 44.56744942400047)',\n",
       "       'POINT (-99.36572062299967 41.6410409880005)',\n",
       "       'POINT (-86.14996019399968 39.766910452000445)',\n",
       "       'POINT (-111.76381127699972 34.865970280000454)',\n",
       "       'POINT (-82.40426005599966 40.06021014100048)',\n",
       "       'POINT (-72.51764079099962 43.62538123900049)',\n",
       "       'POINT (-111.58713063499971 39.360700171000474)',\n",
       "       'POINT (-89.81637074199966 44.39319117400049)',\n",
       "       'POINT (-83.62758034599966 32.83968109300048)',\n",
       "       'POINT (-93.81649055599968 42.46940091300047)',\n",
       "       'POINT (-79.15925046299964 35.466220975000454)',\n",
       "       'POINT (-85.77449091399967 35.68094058000048)',\n",
       "       'POINT (-100.3735306369997 44.353130053000484)',\n",
       "       'POINT (-117.07184056399967 39.493240390000494)',\n",
       "       'POINT (-94.79420050299967 46.35564873600049)',\n",
       "       'POINT (-106.13361092099967 38.843840757000464)',\n",
       "       'POINT (-114.3637300419997 43.682630005000476)',\n",
       "       'POINT (-64.896335 18.335765)',\n",
       "       'POINT (-120.99999953799971 37.63864012300047)',\n",
       "       'POINT (-92.27449074299966 34.74865012400045)',\n",
       "       'POINT (-81.92896053899966 28.932040377000476)',\n",
       "       'POINT (-75.57774116799965 39.008830667000495)',\n",
       "       'POINT (-72.64984095199964 41.56266102000046)',\n",
       "       'POINT (-157.85774940299973 21.304850435000446)',\n",
       "       'POINT (144.793731 13.444304)',\n",
       "       'POINT (-98.20078122699965 38.34774030000045)',\n",
       "       'POINT (-88.99771017799969 40.48501028300046)',\n",
       "       'POINT (-92.44568007099969 31.31266064400046)',\n",
       "       'POINT (-76.60926011099963 39.29058096400047)',\n",
       "       'POINT (-84.77497104799966 37.645970271000465)',\n",
       "       'POINT (-72.08269067499964 42.27687047000046)',\n",
       "       'POINT (-68.98503133599962 45.254228894000505)',\n",
       "       'POINT (-84.71439026999968 44.6613195430005)',\n",
       "       'POINT (-109.42442064499971 47.06652897200047)',\n",
       "       'POINT (-89.53803082499968 32.745510099000455)',\n",
       "       'POINT (-92.56630005299968 38.635790776000476)',\n",
       "       'POINT (-71.50036091999965 43.65595011300047)',\n",
       "       'POINT (-74.27369128799967 40.13057004800049)',\n",
       "       'POINT (-100.11842104899966 47.47531977900047)',\n",
       "       'POINT (-106.24058098499967 34.52088095200048)',\n",
       "       'POINT (-75.54397042699964 42.82700103200045)',\n",
       "       'POINT (-66.590149 18.220833)',\n",
       "       'POINT (-77.86070029399963 40.79373015200048)',\n",
       "       'POINT (-71.52247031399963 41.70828019300046)',\n",
       "       'POINT (-99.42677020599967 31.827240407000488)',\n",
       "       'POINT (-78.45789046299967 37.54268067400045)',\n",
       "       'POINT (-120.47001078999972 47.52227862900048)',\n",
       "       'POINT (-80.71264013499967 38.66551020200046)',\n",
       "       'POINT (-108.10983035299967 43.23554134300048)',\n",
       "       'POINT (-97.52107021399968 35.47203135600046)',\n",
       "       'POINT (-77.036871 38.907192)',\n",
       "       'POINT (-147.72205903599973 64.84507995700051)',\n",
       "       'POINT (-81.04537120699968 33.998821303000454)'], dtype=object)"
      ]
     },
     "execution_count": 53,
     "metadata": {},
     "output_type": "execute_result"
    }
   ],
   "source": [
    "df['Geolocation'].unique()"
   ]
  },
  {
   "cell_type": "markdown",
   "id": "7df79a1f",
   "metadata": {},
   "source": [
    "<b> Count the Number of Null Values in the 'Geolocation' </b>"
   ]
  },
  {
   "cell_type": "code",
   "execution_count": 54,
   "id": "ff8faddb",
   "metadata": {},
   "outputs": [
    {
     "data": {
      "text/plain": [
       "26709"
      ]
     },
     "execution_count": 54,
     "metadata": {},
     "output_type": "execute_result"
    }
   ],
   "source": [
    "df['Geolocation'].isnull().sum()"
   ]
  },
  {
   "cell_type": "code",
   "execution_count": 55,
   "id": "f5aa7627",
   "metadata": {},
   "outputs": [
    {
     "data": {
      "text/plain": [
       "array(['C01', 'C05', 'C02', 'C07', 'C03', 'C04', 'C06'], dtype=object)"
      ]
     },
     "execution_count": 55,
     "metadata": {},
     "output_type": "execute_result"
    }
   ],
   "source": [
    "df['ClassID'].unique()"
   ]
  },
  {
   "cell_type": "code",
   "execution_count": 56,
   "id": "27965963",
   "metadata": {},
   "outputs": [
    {
     "data": {
      "text/plain": [
       "array(['TOC11', 'TMC01', 'TMC03', 'TOC03', 'TOC06', 'TNC02', 'TOC13',\n",
       "       'TGC04', 'TSC08', 'TOC07', 'TOC12', 'TOC01', 'TNC04', 'TOC09',\n",
       "       'TAC03', 'TNC01', 'TSC06', 'TSC09', 'TOC10', 'TOC04', 'TNC03',\n",
       "       'TGC03', 'TOC08', 'TAC01', 'TCC02', 'TCC01', 'TCC03', 'TSC07',\n",
       "       'TSC04', 'TCC04', 'TGC05', 'TGC01', 'TGC02', 'TOC05', 'TSC03',\n",
       "       'TSC02', 'TSC10', 'TSC01', 'TSC11'], dtype=object)"
      ]
     },
     "execution_count": 56,
     "metadata": {},
     "output_type": "execute_result"
    }
   ],
   "source": [
    "df['TopicID'].unique()"
   ]
  },
  {
   "cell_type": "code",
   "execution_count": 57,
   "id": "29475b47",
   "metadata": {},
   "outputs": [
    {
     "data": {
      "text/plain": [
       "array(['Q43', 'Q03', 'Q27', 'Q35', 'Q05', 'Q02', 'Q45', 'Q39', 'Q18',\n",
       "       'Q32', 'Q44', 'Q08', 'Q13', 'Q34', 'Q21', 'Q01', 'Q14', 'Q09',\n",
       "       'Q46', 'Q04', 'Q16', 'Q38', 'Q33', 'Q17', 'Q31', 'Q30', 'Q41',\n",
       "       'Q22', 'Q19', 'Q42', 'Q40', 'Q36', 'Q37', 'Q07', 'Q20', 'Q15',\n",
       "       'Q10', 'Q12', 'Q11'], dtype=object)"
      ]
     },
     "execution_count": 57,
     "metadata": {},
     "output_type": "execute_result"
    }
   ],
   "source": [
    "df['QuestionID'].unique()"
   ]
  },
  {
   "cell_type": "code",
   "execution_count": 58,
   "id": "a452bd55",
   "metadata": {},
   "outputs": [
    {
     "data": {
      "text/plain": [
       "array([9003,    1,   41,   31,   18,    4,   39,   50,   49,   55,   13,\n",
       "         19, 9001,   37,   47,   46,   32, 9002,   27,    8,   16, 9004,\n",
       "         78,    6,    5,   12,   10,    9,   15,   66,   20,   17,   22,\n",
       "         24,   21,   25,   23,   26,   30,   28,   29,   33,   34,   59,\n",
       "         38,   35,   36,   72,   42,   44,   48,   51,   53,   54,   56,\n",
       "         40,   11,    2,   45], dtype=int64)"
      ]
     },
     "execution_count": 58,
     "metadata": {},
     "output_type": "execute_result"
    }
   ],
   "source": [
    "df['LocationID'].unique()"
   ]
  },
  {
   "cell_type": "code",
   "execution_count": 59,
   "id": "5db2d3cf",
   "metadata": {},
   "outputs": [
    {
     "data": {
      "text/plain": [
       "array(['AGE'], dtype=object)"
      ]
     },
     "execution_count": 59,
     "metadata": {},
     "output_type": "execute_result"
    }
   ],
   "source": [
    "df['StratificationCategoryID1'].unique()"
   ]
  },
  {
   "cell_type": "markdown",
   "id": "b8f7a6df",
   "metadata": {},
   "source": [
    "<b> Due to the Limited Usefulness of the 'StratificationCategoryID1', Drop the Column </b>"
   ]
  },
  {
   "cell_type": "code",
   "execution_count": 60,
   "id": "2ac8d3f9",
   "metadata": {},
   "outputs": [],
   "source": [
    "df = df.drop('StratificationCategoryID1', axis = 1)"
   ]
  },
  {
   "cell_type": "code",
   "execution_count": 61,
   "id": "fa0ec15d",
   "metadata": {},
   "outputs": [
    {
     "data": {
      "text/plain": [
       "array(['5064', 'AGE_OVERALL', '65PLUS'], dtype=object)"
      ]
     },
     "execution_count": 61,
     "metadata": {},
     "output_type": "execute_result"
    }
   ],
   "source": [
    "df['StratificationID1'].unique()"
   ]
  },
  {
   "cell_type": "markdown",
   "id": "3652f25f",
   "metadata": {},
   "source": [
    "<b> Due to the Limited Usefulness of the 'StratificationID1', Drop the Column </b>"
   ]
  },
  {
   "cell_type": "code",
   "execution_count": 62,
   "id": "e22b502c",
   "metadata": {},
   "outputs": [],
   "source": [
    "df = df.drop('StratificationID1', axis = 1)"
   ]
  },
  {
   "cell_type": "code",
   "execution_count": 63,
   "id": "825a6c70",
   "metadata": {},
   "outputs": [
    {
     "name": "stdout",
     "output_type": "stream",
     "text": [
      "<class 'pandas.core.frame.DataFrame'>\n",
      "RangeIndex: 250937 entries, 0 to 250936\n",
      "Data columns (total 23 columns):\n",
      " #   Column                      Non-Null Count   Dtype  \n",
      "---  ------                      --------------   -----  \n",
      " 0   YearStart                   250937 non-null  int64  \n",
      " 1   YearEnd                     250937 non-null  int64  \n",
      " 2   LocationAbbr                250937 non-null  object \n",
      " 3   LocationDesc                250937 non-null  object \n",
      " 4   Class                       250937 non-null  object \n",
      " 5   Topic                       250937 non-null  object \n",
      " 6   Question                    250937 non-null  object \n",
      " 7   Data_Value_Unit             250937 non-null  object \n",
      " 8   DataValueTypeID             250937 non-null  object \n",
      " 9   Data_Value                  169302 non-null  float64\n",
      " 10  Data_Value_Footnote_Symbol  99114 non-null   object \n",
      " 11  Data_Value_Footnote         99114 non-null   object \n",
      " 12  Low_Confidence_Limit        169152 non-null  object \n",
      " 13  High_Confidence_Limit       169152 non-null  object \n",
      " 14  Age Group                   250937 non-null  object \n",
      " 15  Gender/Race                 218561 non-null  object \n",
      " 16  Geolocation                 224228 non-null  object \n",
      " 17  ClassID                     250937 non-null  object \n",
      " 18  TopicID                     250937 non-null  object \n",
      " 19  QuestionID                  250937 non-null  object \n",
      " 20  LocationID                  250937 non-null  int64  \n",
      " 21  StratificationCategoryID2   250937 non-null  object \n",
      " 22  StratificationID2           250937 non-null  object \n",
      "dtypes: float64(1), int64(3), object(19)\n",
      "memory usage: 44.0+ MB\n"
     ]
    }
   ],
   "source": [
    "df.info()"
   ]
  },
  {
   "cell_type": "code",
   "execution_count": 64,
   "id": "65392407",
   "metadata": {},
   "outputs": [
    {
     "data": {
      "text/plain": [
       "array(['OVERALL', 'GENDER', 'RACE'], dtype=object)"
      ]
     },
     "execution_count": 64,
     "metadata": {},
     "output_type": "execute_result"
    }
   ],
   "source": [
    "df['StratificationCategoryID2'].unique()"
   ]
  },
  {
   "cell_type": "code",
   "execution_count": 65,
   "id": "3378a3d3",
   "metadata": {},
   "outputs": [
    {
     "data": {
      "text/plain": [
       "array(['OVERALL', 'FEMALE', 'HIS', 'MALE', 'WHT', 'NAA', 'BLK', 'ASN'],\n",
       "      dtype=object)"
      ]
     },
     "execution_count": 65,
     "metadata": {},
     "output_type": "execute_result"
    }
   ],
   "source": [
    "df['StratificationID2'].unique()"
   ]
  },
  {
   "cell_type": "markdown",
   "id": "c3b5110d",
   "metadata": {},
   "source": [
    "<b> Due to the Limited Usefulness of the 'StratificationID2' and 'StratificationCategoryID2', Drop Those Columns </b>"
   ]
  },
  {
   "cell_type": "code",
   "execution_count": 66,
   "id": "93b303c1",
   "metadata": {},
   "outputs": [],
   "source": [
    "df = df.drop(['StratificationCategoryID2', 'StratificationID2'],\n",
    "              axis = 1)"
   ]
  },
  {
   "cell_type": "code",
   "execution_count": 67,
   "id": "7d837ead",
   "metadata": {},
   "outputs": [
    {
     "name": "stdout",
     "output_type": "stream",
     "text": [
      "<class 'pandas.core.frame.DataFrame'>\n",
      "RangeIndex: 250937 entries, 0 to 250936\n",
      "Data columns (total 21 columns):\n",
      " #   Column                      Non-Null Count   Dtype  \n",
      "---  ------                      --------------   -----  \n",
      " 0   YearStart                   250937 non-null  int64  \n",
      " 1   YearEnd                     250937 non-null  int64  \n",
      " 2   LocationAbbr                250937 non-null  object \n",
      " 3   LocationDesc                250937 non-null  object \n",
      " 4   Class                       250937 non-null  object \n",
      " 5   Topic                       250937 non-null  object \n",
      " 6   Question                    250937 non-null  object \n",
      " 7   Data_Value_Unit             250937 non-null  object \n",
      " 8   DataValueTypeID             250937 non-null  object \n",
      " 9   Data_Value                  169302 non-null  float64\n",
      " 10  Data_Value_Footnote_Symbol  99114 non-null   object \n",
      " 11  Data_Value_Footnote         99114 non-null   object \n",
      " 12  Low_Confidence_Limit        169152 non-null  object \n",
      " 13  High_Confidence_Limit       169152 non-null  object \n",
      " 14  Age Group                   250937 non-null  object \n",
      " 15  Gender/Race                 218561 non-null  object \n",
      " 16  Geolocation                 224228 non-null  object \n",
      " 17  ClassID                     250937 non-null  object \n",
      " 18  TopicID                     250937 non-null  object \n",
      " 19  QuestionID                  250937 non-null  object \n",
      " 20  LocationID                  250937 non-null  int64  \n",
      "dtypes: float64(1), int64(3), object(17)\n",
      "memory usage: 40.2+ MB\n"
     ]
    }
   ],
   "source": [
    "df.info()"
   ]
  },
  {
   "cell_type": "code",
   "execution_count": 68,
   "id": "6ae844e3",
   "metadata": {},
   "outputs": [
    {
     "data": {
      "text/plain": [
       "array([35.9, 13.4, 16.0, ..., '97.7', 99.3, 99.4], dtype=object)"
      ]
     },
     "execution_count": 68,
     "metadata": {},
     "output_type": "execute_result"
    }
   ],
   "source": [
    "df['Low_Confidence_Limit'].unique()"
   ]
  },
  {
   "cell_type": "markdown",
   "id": "423cd4a1",
   "metadata": {},
   "source": [
    "<b> Convert All Values (except null values) in 'Low_Confidence_Limit' Column to Float and Place It into New Column </b>"
   ]
  },
  {
   "cell_type": "code",
   "execution_count": 69,
   "id": "c1e86b44",
   "metadata": {},
   "outputs": [],
   "source": [
    "df['column_name'] = pd.to_numeric(df['Low_Confidence_Limit'], errors='coerce').astype(float)"
   ]
  },
  {
   "cell_type": "markdown",
   "id": "1896e44e",
   "metadata": {},
   "source": [
    "<b> Drop the Original Column </b>"
   ]
  },
  {
   "cell_type": "code",
   "execution_count": 70,
   "id": "edfb822c",
   "metadata": {},
   "outputs": [],
   "source": [
    "df = df.drop('Low_Confidence_Limit', axis = 1)"
   ]
  },
  {
   "cell_type": "markdown",
   "id": "ff3f73ae",
   "metadata": {},
   "source": [
    "<b> Change the New Column's Name into 'Low_Confidence_Limit' </b>"
   ]
  },
  {
   "cell_type": "code",
   "execution_count": 71,
   "id": "7d77caef",
   "metadata": {},
   "outputs": [],
   "source": [
    "df.rename(columns={'column_name': 'Low_Confidence_Limit'}, inplace=True)"
   ]
  },
  {
   "cell_type": "code",
   "execution_count": 72,
   "id": "22842931",
   "metadata": {},
   "outputs": [
    {
     "name": "stdout",
     "output_type": "stream",
     "text": [
      "<class 'pandas.core.frame.DataFrame'>\n",
      "RangeIndex: 250937 entries, 0 to 250936\n",
      "Data columns (total 21 columns):\n",
      " #   Column                      Non-Null Count   Dtype  \n",
      "---  ------                      --------------   -----  \n",
      " 0   YearStart                   250937 non-null  int64  \n",
      " 1   YearEnd                     250937 non-null  int64  \n",
      " 2   LocationAbbr                250937 non-null  object \n",
      " 3   LocationDesc                250937 non-null  object \n",
      " 4   Class                       250937 non-null  object \n",
      " 5   Topic                       250937 non-null  object \n",
      " 6   Question                    250937 non-null  object \n",
      " 7   Data_Value_Unit             250937 non-null  object \n",
      " 8   DataValueTypeID             250937 non-null  object \n",
      " 9   Data_Value                  169302 non-null  float64\n",
      " 10  Data_Value_Footnote_Symbol  99114 non-null   object \n",
      " 11  Data_Value_Footnote         99114 non-null   object \n",
      " 12  High_Confidence_Limit       169152 non-null  object \n",
      " 13  Age Group                   250937 non-null  object \n",
      " 14  Gender/Race                 218561 non-null  object \n",
      " 15  Geolocation                 224228 non-null  object \n",
      " 16  ClassID                     250937 non-null  object \n",
      " 17  TopicID                     250937 non-null  object \n",
      " 18  QuestionID                  250937 non-null  object \n",
      " 19  LocationID                  250937 non-null  int64  \n",
      " 20  Low_Confidence_Limit        169126 non-null  float64\n",
      "dtypes: float64(2), int64(3), object(16)\n",
      "memory usage: 40.2+ MB\n"
     ]
    }
   ],
   "source": [
    "df.info()"
   ]
  },
  {
   "cell_type": "code",
   "execution_count": 73,
   "id": "6b307172",
   "metadata": {},
   "outputs": [
    {
     "data": {
      "text/plain": [
       "array([37.7, 17.9, 33.2, ..., 1.9, 1.4, 1.6], dtype=object)"
      ]
     },
     "execution_count": 73,
     "metadata": {},
     "output_type": "execute_result"
    }
   ],
   "source": [
    "df['High_Confidence_Limit'].unique()"
   ]
  },
  {
   "cell_type": "markdown",
   "id": "f3fac308",
   "metadata": {},
   "source": [
    "<b> Convert All Values (except null values) in 'High_Confidence_Limit' Column to Float and Place It into New Column </b>"
   ]
  },
  {
   "cell_type": "code",
   "execution_count": 74,
   "id": "fde2903b",
   "metadata": {},
   "outputs": [],
   "source": [
    "df['column_name'] = pd.to_numeric(df['High_Confidence_Limit'], errors='coerce').astype(float)"
   ]
  },
  {
   "cell_type": "markdown",
   "id": "037557bc",
   "metadata": {},
   "source": [
    "<b> Drop the Original Column </b>"
   ]
  },
  {
   "cell_type": "code",
   "execution_count": 75,
   "id": "0ecc42ab",
   "metadata": {},
   "outputs": [],
   "source": [
    "df = df.drop('High_Confidence_Limit', axis = 1)"
   ]
  },
  {
   "cell_type": "markdown",
   "id": "719ebb13",
   "metadata": {},
   "source": [
    "<b> Change the New Column's Name into 'High_Confidence_Limit' </b>"
   ]
  },
  {
   "cell_type": "code",
   "execution_count": 76,
   "id": "3a973ab9",
   "metadata": {},
   "outputs": [],
   "source": [
    "df.rename(columns={'column_name': 'High_Confidence_Limit'}, inplace=True)"
   ]
  },
  {
   "cell_type": "code",
   "execution_count": 77,
   "id": "0a90d2ca",
   "metadata": {},
   "outputs": [
    {
     "name": "stdout",
     "output_type": "stream",
     "text": [
      "<class 'pandas.core.frame.DataFrame'>\n",
      "RangeIndex: 250937 entries, 0 to 250936\n",
      "Data columns (total 21 columns):\n",
      " #   Column                      Non-Null Count   Dtype  \n",
      "---  ------                      --------------   -----  \n",
      " 0   YearStart                   250937 non-null  int64  \n",
      " 1   YearEnd                     250937 non-null  int64  \n",
      " 2   LocationAbbr                250937 non-null  object \n",
      " 3   LocationDesc                250937 non-null  object \n",
      " 4   Class                       250937 non-null  object \n",
      " 5   Topic                       250937 non-null  object \n",
      " 6   Question                    250937 non-null  object \n",
      " 7   Data_Value_Unit             250937 non-null  object \n",
      " 8   DataValueTypeID             250937 non-null  object \n",
      " 9   Data_Value                  169302 non-null  float64\n",
      " 10  Data_Value_Footnote_Symbol  99114 non-null   object \n",
      " 11  Data_Value_Footnote         99114 non-null   object \n",
      " 12  Age Group                   250937 non-null  object \n",
      " 13  Gender/Race                 218561 non-null  object \n",
      " 14  Geolocation                 224228 non-null  object \n",
      " 15  ClassID                     250937 non-null  object \n",
      " 16  TopicID                     250937 non-null  object \n",
      " 17  QuestionID                  250937 non-null  object \n",
      " 18  LocationID                  250937 non-null  int64  \n",
      " 19  Low_Confidence_Limit        169126 non-null  float64\n",
      " 20  High_Confidence_Limit       169126 non-null  float64\n",
      "dtypes: float64(3), int64(3), object(15)\n",
      "memory usage: 40.2+ MB\n"
     ]
    }
   ],
   "source": [
    "df.info()"
   ]
  },
  {
   "cell_type": "code",
   "execution_count": 78,
   "id": "16be730d",
   "metadata": {},
   "outputs": [
    {
     "data": {
      "text/html": [
       "<div>\n",
       "<style scoped>\n",
       "    .dataframe tbody tr th:only-of-type {\n",
       "        vertical-align: middle;\n",
       "    }\n",
       "\n",
       "    .dataframe tbody tr th {\n",
       "        vertical-align: top;\n",
       "    }\n",
       "\n",
       "    .dataframe thead th {\n",
       "        text-align: right;\n",
       "    }\n",
       "</style>\n",
       "<table border=\"1\" class=\"dataframe\">\n",
       "  <thead>\n",
       "    <tr style=\"text-align: right;\">\n",
       "      <th></th>\n",
       "      <th>YearStart</th>\n",
       "      <th>YearEnd</th>\n",
       "      <th>LocationAbbr</th>\n",
       "      <th>LocationDesc</th>\n",
       "      <th>Class</th>\n",
       "      <th>Topic</th>\n",
       "      <th>Question</th>\n",
       "      <th>Data_Value_Unit</th>\n",
       "      <th>DataValueTypeID</th>\n",
       "      <th>Data_Value</th>\n",
       "      <th>...</th>\n",
       "      <th>Data_Value_Footnote</th>\n",
       "      <th>Age Group</th>\n",
       "      <th>Gender/Race</th>\n",
       "      <th>Geolocation</th>\n",
       "      <th>ClassID</th>\n",
       "      <th>TopicID</th>\n",
       "      <th>QuestionID</th>\n",
       "      <th>LocationID</th>\n",
       "      <th>Low_Confidence_Limit</th>\n",
       "      <th>High_Confidence_Limit</th>\n",
       "    </tr>\n",
       "  </thead>\n",
       "  <tbody>\n",
       "    <tr>\n",
       "      <th>0</th>\n",
       "      <td>2015</td>\n",
       "      <td>2015</td>\n",
       "      <td>SOU</td>\n",
       "      <td>South</td>\n",
       "      <td>Overall Health</td>\n",
       "      <td>Arthritis among older adults</td>\n",
       "      <td>Percentage of older adults ever told they have...</td>\n",
       "      <td>%</td>\n",
       "      <td>PRCTG</td>\n",
       "      <td>36.8</td>\n",
       "      <td>...</td>\n",
       "      <td>NaN</td>\n",
       "      <td>50-64</td>\n",
       "      <td>NaN</td>\n",
       "      <td>NaN</td>\n",
       "      <td>C01</td>\n",
       "      <td>TOC11</td>\n",
       "      <td>Q43</td>\n",
       "      <td>9003</td>\n",
       "      <td>35.9</td>\n",
       "      <td>37.7</td>\n",
       "    </tr>\n",
       "    <tr>\n",
       "      <th>1</th>\n",
       "      <td>2021</td>\n",
       "      <td>2021</td>\n",
       "      <td>AL</td>\n",
       "      <td>Alabama</td>\n",
       "      <td>Mental Health</td>\n",
       "      <td>Frequent mental distress</td>\n",
       "      <td>Percentage of older adults who are experiencin...</td>\n",
       "      <td>%</td>\n",
       "      <td>PRCTG</td>\n",
       "      <td>15.5</td>\n",
       "      <td>...</td>\n",
       "      <td>NaN</td>\n",
       "      <td>Overall</td>\n",
       "      <td>Female</td>\n",
       "      <td>POINT (-86.63186076199969 32.84057112200048)</td>\n",
       "      <td>C05</td>\n",
       "      <td>TMC01</td>\n",
       "      <td>Q03</td>\n",
       "      <td>1</td>\n",
       "      <td>13.4</td>\n",
       "      <td>17.9</td>\n",
       "    </tr>\n",
       "    <tr>\n",
       "      <th>2</th>\n",
       "      <td>2021</td>\n",
       "      <td>2021</td>\n",
       "      <td>OR</td>\n",
       "      <td>Oregon</td>\n",
       "      <td>Mental Health</td>\n",
       "      <td>Lifetime diagnosis of depression</td>\n",
       "      <td>Percentage of older adults with a lifetime dia...</td>\n",
       "      <td>%</td>\n",
       "      <td>PRCTG</td>\n",
       "      <td>23.5</td>\n",
       "      <td>...</td>\n",
       "      <td>NaN</td>\n",
       "      <td>Overall</td>\n",
       "      <td>Hispanic</td>\n",
       "      <td>POINT (-120.15503132599969 44.56744942400047)</td>\n",
       "      <td>C05</td>\n",
       "      <td>TMC03</td>\n",
       "      <td>Q27</td>\n",
       "      <td>41</td>\n",
       "      <td>16.0</td>\n",
       "      <td>33.2</td>\n",
       "    </tr>\n",
       "    <tr>\n",
       "      <th>3</th>\n",
       "      <td>2021</td>\n",
       "      <td>2021</td>\n",
       "      <td>NE</td>\n",
       "      <td>Nebraska</td>\n",
       "      <td>Mental Health</td>\n",
       "      <td>Lifetime diagnosis of depression</td>\n",
       "      <td>Percentage of older adults with a lifetime dia...</td>\n",
       "      <td>%</td>\n",
       "      <td>PRCTG</td>\n",
       "      <td>13.6</td>\n",
       "      <td>...</td>\n",
       "      <td>NaN</td>\n",
       "      <td>Overall</td>\n",
       "      <td>NaN</td>\n",
       "      <td>POINT (-99.36572062299967 41.6410409880005)</td>\n",
       "      <td>C05</td>\n",
       "      <td>TMC03</td>\n",
       "      <td>Q27</td>\n",
       "      <td>31</td>\n",
       "      <td>12.6</td>\n",
       "      <td>14.6</td>\n",
       "    </tr>\n",
       "    <tr>\n",
       "      <th>4</th>\n",
       "      <td>2021</td>\n",
       "      <td>2021</td>\n",
       "      <td>IN</td>\n",
       "      <td>Indiana</td>\n",
       "      <td>Mental Health</td>\n",
       "      <td>Lifetime diagnosis of depression</td>\n",
       "      <td>Percentage of older adults with a lifetime dia...</td>\n",
       "      <td>%</td>\n",
       "      <td>PRCTG</td>\n",
       "      <td>25.5</td>\n",
       "      <td>...</td>\n",
       "      <td>NaN</td>\n",
       "      <td>Overall</td>\n",
       "      <td>Female</td>\n",
       "      <td>POINT (-86.14996019399968 39.766910452000445)</td>\n",
       "      <td>C05</td>\n",
       "      <td>TMC03</td>\n",
       "      <td>Q27</td>\n",
       "      <td>18</td>\n",
       "      <td>23.9</td>\n",
       "      <td>27.3</td>\n",
       "    </tr>\n",
       "  </tbody>\n",
       "</table>\n",
       "<p>5 rows × 21 columns</p>\n",
       "</div>"
      ],
      "text/plain": [
       "   YearStart  YearEnd LocationAbbr LocationDesc           Class  \\\n",
       "0       2015     2015          SOU        South  Overall Health   \n",
       "1       2021     2021           AL      Alabama   Mental Health   \n",
       "2       2021     2021           OR       Oregon   Mental Health   \n",
       "3       2021     2021           NE     Nebraska   Mental Health   \n",
       "4       2021     2021           IN      Indiana   Mental Health   \n",
       "\n",
       "                              Topic  \\\n",
       "0      Arthritis among older adults   \n",
       "1          Frequent mental distress   \n",
       "2  Lifetime diagnosis of depression   \n",
       "3  Lifetime diagnosis of depression   \n",
       "4  Lifetime diagnosis of depression   \n",
       "\n",
       "                                            Question Data_Value_Unit  \\\n",
       "0  Percentage of older adults ever told they have...               %   \n",
       "1  Percentage of older adults who are experiencin...               %   \n",
       "2  Percentage of older adults with a lifetime dia...               %   \n",
       "3  Percentage of older adults with a lifetime dia...               %   \n",
       "4  Percentage of older adults with a lifetime dia...               %   \n",
       "\n",
       "  DataValueTypeID  Data_Value  ... Data_Value_Footnote Age Group Gender/Race  \\\n",
       "0           PRCTG        36.8  ...                 NaN     50-64         NaN   \n",
       "1           PRCTG        15.5  ...                 NaN   Overall      Female   \n",
       "2           PRCTG        23.5  ...                 NaN   Overall    Hispanic   \n",
       "3           PRCTG        13.6  ...                 NaN   Overall         NaN   \n",
       "4           PRCTG        25.5  ...                 NaN   Overall      Female   \n",
       "\n",
       "                                     Geolocation ClassID TopicID QuestionID  \\\n",
       "0                                            NaN     C01   TOC11        Q43   \n",
       "1   POINT (-86.63186076199969 32.84057112200048)     C05   TMC01        Q03   \n",
       "2  POINT (-120.15503132599969 44.56744942400047)     C05   TMC03        Q27   \n",
       "3    POINT (-99.36572062299967 41.6410409880005)     C05   TMC03        Q27   \n",
       "4  POINT (-86.14996019399968 39.766910452000445)     C05   TMC03        Q27   \n",
       "\n",
       "  LocationID  Low_Confidence_Limit  High_Confidence_Limit  \n",
       "0       9003                  35.9                   37.7  \n",
       "1          1                  13.4                   17.9  \n",
       "2         41                  16.0                   33.2  \n",
       "3         31                  12.6                   14.6  \n",
       "4         18                  23.9                   27.3  \n",
       "\n",
       "[5 rows x 21 columns]"
      ]
     },
     "execution_count": 78,
     "metadata": {},
     "output_type": "execute_result"
    }
   ],
   "source": [
    "df.head()"
   ]
  },
  {
   "cell_type": "markdown",
   "id": "a3c5a2b0",
   "metadata": {},
   "source": [
    "<b> Change All Null Values in 'Data_Value_Footnote' Column into 'No Data Available' </b>"
   ]
  },
  {
   "cell_type": "code",
   "execution_count": 79,
   "id": "69c8206b",
   "metadata": {},
   "outputs": [],
   "source": [
    "df['Data_Value_Footnote'].fillna('No Data Available', inplace=True)"
   ]
  },
  {
   "cell_type": "markdown",
   "id": "c3cd8f79",
   "metadata": {},
   "source": [
    "<b> Change All Null Values in 'Data_Value_Footnote_Symbol' Column into '~' </b>"
   ]
  },
  {
   "cell_type": "code",
   "execution_count": 80,
   "id": "de7108d6",
   "metadata": {},
   "outputs": [],
   "source": [
    "df['Data_Value_Footnote_Symbol'].fillna('~', inplace = True)"
   ]
  },
  {
   "cell_type": "code",
   "execution_count": 81,
   "id": "0d94407b",
   "metadata": {
    "scrolled": true
   },
   "outputs": [
    {
     "name": "stdout",
     "output_type": "stream",
     "text": [
      "<class 'pandas.core.frame.DataFrame'>\n",
      "RangeIndex: 250937 entries, 0 to 250936\n",
      "Data columns (total 21 columns):\n",
      " #   Column                      Non-Null Count   Dtype  \n",
      "---  ------                      --------------   -----  \n",
      " 0   YearStart                   250937 non-null  int64  \n",
      " 1   YearEnd                     250937 non-null  int64  \n",
      " 2   LocationAbbr                250937 non-null  object \n",
      " 3   LocationDesc                250937 non-null  object \n",
      " 4   Class                       250937 non-null  object \n",
      " 5   Topic                       250937 non-null  object \n",
      " 6   Question                    250937 non-null  object \n",
      " 7   Data_Value_Unit             250937 non-null  object \n",
      " 8   DataValueTypeID             250937 non-null  object \n",
      " 9   Data_Value                  169302 non-null  float64\n",
      " 10  Data_Value_Footnote_Symbol  250937 non-null  object \n",
      " 11  Data_Value_Footnote         250937 non-null  object \n",
      " 12  Age Group                   250937 non-null  object \n",
      " 13  Gender/Race                 218561 non-null  object \n",
      " 14  Geolocation                 224228 non-null  object \n",
      " 15  ClassID                     250937 non-null  object \n",
      " 16  TopicID                     250937 non-null  object \n",
      " 17  QuestionID                  250937 non-null  object \n",
      " 18  LocationID                  250937 non-null  int64  \n",
      " 19  Low_Confidence_Limit        169126 non-null  float64\n",
      " 20  High_Confidence_Limit       169126 non-null  float64\n",
      "dtypes: float64(3), int64(3), object(15)\n",
      "memory usage: 40.2+ MB\n"
     ]
    }
   ],
   "source": [
    "df.info()"
   ]
  },
  {
   "cell_type": "code",
   "execution_count": 82,
   "id": "d1d4ac95",
   "metadata": {},
   "outputs": [
    {
     "data": {
      "text/html": [
       "<div>\n",
       "<style scoped>\n",
       "    .dataframe tbody tr th:only-of-type {\n",
       "        vertical-align: middle;\n",
       "    }\n",
       "\n",
       "    .dataframe tbody tr th {\n",
       "        vertical-align: top;\n",
       "    }\n",
       "\n",
       "    .dataframe thead th {\n",
       "        text-align: right;\n",
       "    }\n",
       "</style>\n",
       "<table border=\"1\" class=\"dataframe\">\n",
       "  <thead>\n",
       "    <tr style=\"text-align: right;\">\n",
       "      <th></th>\n",
       "      <th>Data_Value</th>\n",
       "      <th>Low_Confidence_Limit</th>\n",
       "      <th>High_Confidence_Limit</th>\n",
       "    </tr>\n",
       "  </thead>\n",
       "  <tbody>\n",
       "    <tr>\n",
       "      <th>149</th>\n",
       "      <td>NaN</td>\n",
       "      <td>NaN</td>\n",
       "      <td>NaN</td>\n",
       "    </tr>\n",
       "    <tr>\n",
       "      <th>220</th>\n",
       "      <td>NaN</td>\n",
       "      <td>NaN</td>\n",
       "      <td>NaN</td>\n",
       "    </tr>\n",
       "    <tr>\n",
       "      <th>300</th>\n",
       "      <td>NaN</td>\n",
       "      <td>NaN</td>\n",
       "      <td>NaN</td>\n",
       "    </tr>\n",
       "    <tr>\n",
       "      <th>301</th>\n",
       "      <td>NaN</td>\n",
       "      <td>NaN</td>\n",
       "      <td>NaN</td>\n",
       "    </tr>\n",
       "    <tr>\n",
       "      <th>306</th>\n",
       "      <td>NaN</td>\n",
       "      <td>NaN</td>\n",
       "      <td>NaN</td>\n",
       "    </tr>\n",
       "    <tr>\n",
       "      <th>...</th>\n",
       "      <td>...</td>\n",
       "      <td>...</td>\n",
       "      <td>...</td>\n",
       "    </tr>\n",
       "    <tr>\n",
       "      <th>250923</th>\n",
       "      <td>NaN</td>\n",
       "      <td>NaN</td>\n",
       "      <td>NaN</td>\n",
       "    </tr>\n",
       "    <tr>\n",
       "      <th>250927</th>\n",
       "      <td>NaN</td>\n",
       "      <td>NaN</td>\n",
       "      <td>NaN</td>\n",
       "    </tr>\n",
       "    <tr>\n",
       "      <th>250930</th>\n",
       "      <td>NaN</td>\n",
       "      <td>NaN</td>\n",
       "      <td>NaN</td>\n",
       "    </tr>\n",
       "    <tr>\n",
       "      <th>250933</th>\n",
       "      <td>NaN</td>\n",
       "      <td>NaN</td>\n",
       "      <td>NaN</td>\n",
       "    </tr>\n",
       "    <tr>\n",
       "      <th>250936</th>\n",
       "      <td>NaN</td>\n",
       "      <td>NaN</td>\n",
       "      <td>NaN</td>\n",
       "    </tr>\n",
       "  </tbody>\n",
       "</table>\n",
       "<p>81635 rows × 3 columns</p>\n",
       "</div>"
      ],
      "text/plain": [
       "        Data_Value  Low_Confidence_Limit  High_Confidence_Limit\n",
       "149            NaN                   NaN                    NaN\n",
       "220            NaN                   NaN                    NaN\n",
       "300            NaN                   NaN                    NaN\n",
       "301            NaN                   NaN                    NaN\n",
       "306            NaN                   NaN                    NaN\n",
       "...            ...                   ...                    ...\n",
       "250923         NaN                   NaN                    NaN\n",
       "250927         NaN                   NaN                    NaN\n",
       "250930         NaN                   NaN                    NaN\n",
       "250933         NaN                   NaN                    NaN\n",
       "250936         NaN                   NaN                    NaN\n",
       "\n",
       "[81635 rows x 3 columns]"
      ]
     },
     "execution_count": 82,
     "metadata": {},
     "output_type": "execute_result"
    }
   ],
   "source": [
    "df[df['Data_Value'].isnull()][['Data_Value', 'Low_Confidence_Limit', 'High_Confidence_Limit']]"
   ]
  },
  {
   "cell_type": "markdown",
   "id": "6be3fbb8",
   "metadata": {},
   "source": [
    "<b> Because 'Data_Value', 'Low_Confidence_Limit', and 'High_Confidence_Limit' Columns Have Same Rows that Contains Null Values, Drop Those Rows </b>"
   ]
  },
  {
   "cell_type": "code",
   "execution_count": 83,
   "id": "e7f23953",
   "metadata": {},
   "outputs": [],
   "source": [
    "df = df.dropna(subset=['Data_Value'])"
   ]
  },
  {
   "cell_type": "code",
   "execution_count": 84,
   "id": "ec447f80",
   "metadata": {},
   "outputs": [
    {
     "name": "stdout",
     "output_type": "stream",
     "text": [
      "<class 'pandas.core.frame.DataFrame'>\n",
      "Int64Index: 169302 entries, 0 to 250935\n",
      "Data columns (total 21 columns):\n",
      " #   Column                      Non-Null Count   Dtype  \n",
      "---  ------                      --------------   -----  \n",
      " 0   YearStart                   169302 non-null  int64  \n",
      " 1   YearEnd                     169302 non-null  int64  \n",
      " 2   LocationAbbr                169302 non-null  object \n",
      " 3   LocationDesc                169302 non-null  object \n",
      " 4   Class                       169302 non-null  object \n",
      " 5   Topic                       169302 non-null  object \n",
      " 6   Question                    169302 non-null  object \n",
      " 7   Data_Value_Unit             169302 non-null  object \n",
      " 8   DataValueTypeID             169302 non-null  object \n",
      " 9   Data_Value                  169302 non-null  float64\n",
      " 10  Data_Value_Footnote_Symbol  169302 non-null  object \n",
      " 11  Data_Value_Footnote         169302 non-null  object \n",
      " 12  Age Group                   169302 non-null  object \n",
      " 13  Gender/Race                 137016 non-null  object \n",
      " 14  Geolocation                 142990 non-null  object \n",
      " 15  ClassID                     169302 non-null  object \n",
      " 16  TopicID                     169302 non-null  object \n",
      " 17  QuestionID                  169302 non-null  object \n",
      " 18  LocationID                  169302 non-null  int64  \n",
      " 19  Low_Confidence_Limit        169126 non-null  float64\n",
      " 20  High_Confidence_Limit       169126 non-null  float64\n",
      "dtypes: float64(3), int64(3), object(15)\n",
      "memory usage: 28.4+ MB\n"
     ]
    }
   ],
   "source": [
    "df.info()"
   ]
  },
  {
   "cell_type": "code",
   "execution_count": 85,
   "id": "01717dc5",
   "metadata": {},
   "outputs": [
    {
     "data": {
      "text/html": [
       "<div>\n",
       "<style scoped>\n",
       "    .dataframe tbody tr th:only-of-type {\n",
       "        vertical-align: middle;\n",
       "    }\n",
       "\n",
       "    .dataframe tbody tr th {\n",
       "        vertical-align: top;\n",
       "    }\n",
       "\n",
       "    .dataframe thead th {\n",
       "        text-align: right;\n",
       "    }\n",
       "</style>\n",
       "<table border=\"1\" class=\"dataframe\">\n",
       "  <thead>\n",
       "    <tr style=\"text-align: right;\">\n",
       "      <th></th>\n",
       "      <th>YearStart</th>\n",
       "      <th>YearEnd</th>\n",
       "      <th>LocationAbbr</th>\n",
       "      <th>LocationDesc</th>\n",
       "      <th>Class</th>\n",
       "      <th>Topic</th>\n",
       "      <th>Question</th>\n",
       "      <th>Data_Value_Unit</th>\n",
       "      <th>DataValueTypeID</th>\n",
       "      <th>Data_Value</th>\n",
       "      <th>...</th>\n",
       "      <th>Data_Value_Footnote</th>\n",
       "      <th>Age Group</th>\n",
       "      <th>Gender/Race</th>\n",
       "      <th>Geolocation</th>\n",
       "      <th>ClassID</th>\n",
       "      <th>TopicID</th>\n",
       "      <th>QuestionID</th>\n",
       "      <th>LocationID</th>\n",
       "      <th>Low_Confidence_Limit</th>\n",
       "      <th>High_Confidence_Limit</th>\n",
       "    </tr>\n",
       "  </thead>\n",
       "  <tbody>\n",
       "    <tr>\n",
       "      <th>0</th>\n",
       "      <td>2015</td>\n",
       "      <td>2015</td>\n",
       "      <td>SOU</td>\n",
       "      <td>South</td>\n",
       "      <td>Overall Health</td>\n",
       "      <td>Arthritis among older adults</td>\n",
       "      <td>Percentage of older adults ever told they have...</td>\n",
       "      <td>%</td>\n",
       "      <td>PRCTG</td>\n",
       "      <td>36.8</td>\n",
       "      <td>...</td>\n",
       "      <td>No Data Available</td>\n",
       "      <td>50-64</td>\n",
       "      <td>NaN</td>\n",
       "      <td>NaN</td>\n",
       "      <td>C01</td>\n",
       "      <td>TOC11</td>\n",
       "      <td>Q43</td>\n",
       "      <td>9003</td>\n",
       "      <td>35.9</td>\n",
       "      <td>37.7</td>\n",
       "    </tr>\n",
       "    <tr>\n",
       "      <th>1</th>\n",
       "      <td>2021</td>\n",
       "      <td>2021</td>\n",
       "      <td>AL</td>\n",
       "      <td>Alabama</td>\n",
       "      <td>Mental Health</td>\n",
       "      <td>Frequent mental distress</td>\n",
       "      <td>Percentage of older adults who are experiencin...</td>\n",
       "      <td>%</td>\n",
       "      <td>PRCTG</td>\n",
       "      <td>15.5</td>\n",
       "      <td>...</td>\n",
       "      <td>No Data Available</td>\n",
       "      <td>Overall</td>\n",
       "      <td>Female</td>\n",
       "      <td>POINT (-86.63186076199969 32.84057112200048)</td>\n",
       "      <td>C05</td>\n",
       "      <td>TMC01</td>\n",
       "      <td>Q03</td>\n",
       "      <td>1</td>\n",
       "      <td>13.4</td>\n",
       "      <td>17.9</td>\n",
       "    </tr>\n",
       "    <tr>\n",
       "      <th>2</th>\n",
       "      <td>2021</td>\n",
       "      <td>2021</td>\n",
       "      <td>OR</td>\n",
       "      <td>Oregon</td>\n",
       "      <td>Mental Health</td>\n",
       "      <td>Lifetime diagnosis of depression</td>\n",
       "      <td>Percentage of older adults with a lifetime dia...</td>\n",
       "      <td>%</td>\n",
       "      <td>PRCTG</td>\n",
       "      <td>23.5</td>\n",
       "      <td>...</td>\n",
       "      <td>No Data Available</td>\n",
       "      <td>Overall</td>\n",
       "      <td>Hispanic</td>\n",
       "      <td>POINT (-120.15503132599969 44.56744942400047)</td>\n",
       "      <td>C05</td>\n",
       "      <td>TMC03</td>\n",
       "      <td>Q27</td>\n",
       "      <td>41</td>\n",
       "      <td>16.0</td>\n",
       "      <td>33.2</td>\n",
       "    </tr>\n",
       "    <tr>\n",
       "      <th>3</th>\n",
       "      <td>2021</td>\n",
       "      <td>2021</td>\n",
       "      <td>NE</td>\n",
       "      <td>Nebraska</td>\n",
       "      <td>Mental Health</td>\n",
       "      <td>Lifetime diagnosis of depression</td>\n",
       "      <td>Percentage of older adults with a lifetime dia...</td>\n",
       "      <td>%</td>\n",
       "      <td>PRCTG</td>\n",
       "      <td>13.6</td>\n",
       "      <td>...</td>\n",
       "      <td>No Data Available</td>\n",
       "      <td>Overall</td>\n",
       "      <td>NaN</td>\n",
       "      <td>POINT (-99.36572062299967 41.6410409880005)</td>\n",
       "      <td>C05</td>\n",
       "      <td>TMC03</td>\n",
       "      <td>Q27</td>\n",
       "      <td>31</td>\n",
       "      <td>12.6</td>\n",
       "      <td>14.6</td>\n",
       "    </tr>\n",
       "    <tr>\n",
       "      <th>4</th>\n",
       "      <td>2021</td>\n",
       "      <td>2021</td>\n",
       "      <td>IN</td>\n",
       "      <td>Indiana</td>\n",
       "      <td>Mental Health</td>\n",
       "      <td>Lifetime diagnosis of depression</td>\n",
       "      <td>Percentage of older adults with a lifetime dia...</td>\n",
       "      <td>%</td>\n",
       "      <td>PRCTG</td>\n",
       "      <td>25.5</td>\n",
       "      <td>...</td>\n",
       "      <td>No Data Available</td>\n",
       "      <td>Overall</td>\n",
       "      <td>Female</td>\n",
       "      <td>POINT (-86.14996019399968 39.766910452000445)</td>\n",
       "      <td>C05</td>\n",
       "      <td>TMC03</td>\n",
       "      <td>Q27</td>\n",
       "      <td>18</td>\n",
       "      <td>23.9</td>\n",
       "      <td>27.3</td>\n",
       "    </tr>\n",
       "  </tbody>\n",
       "</table>\n",
       "<p>5 rows × 21 columns</p>\n",
       "</div>"
      ],
      "text/plain": [
       "   YearStart  YearEnd LocationAbbr LocationDesc           Class  \\\n",
       "0       2015     2015          SOU        South  Overall Health   \n",
       "1       2021     2021           AL      Alabama   Mental Health   \n",
       "2       2021     2021           OR       Oregon   Mental Health   \n",
       "3       2021     2021           NE     Nebraska   Mental Health   \n",
       "4       2021     2021           IN      Indiana   Mental Health   \n",
       "\n",
       "                              Topic  \\\n",
       "0      Arthritis among older adults   \n",
       "1          Frequent mental distress   \n",
       "2  Lifetime diagnosis of depression   \n",
       "3  Lifetime diagnosis of depression   \n",
       "4  Lifetime diagnosis of depression   \n",
       "\n",
       "                                            Question Data_Value_Unit  \\\n",
       "0  Percentage of older adults ever told they have...               %   \n",
       "1  Percentage of older adults who are experiencin...               %   \n",
       "2  Percentage of older adults with a lifetime dia...               %   \n",
       "3  Percentage of older adults with a lifetime dia...               %   \n",
       "4  Percentage of older adults with a lifetime dia...               %   \n",
       "\n",
       "  DataValueTypeID  Data_Value  ... Data_Value_Footnote Age Group Gender/Race  \\\n",
       "0           PRCTG        36.8  ...   No Data Available     50-64         NaN   \n",
       "1           PRCTG        15.5  ...   No Data Available   Overall      Female   \n",
       "2           PRCTG        23.5  ...   No Data Available   Overall    Hispanic   \n",
       "3           PRCTG        13.6  ...   No Data Available   Overall         NaN   \n",
       "4           PRCTG        25.5  ...   No Data Available   Overall      Female   \n",
       "\n",
       "                                     Geolocation ClassID TopicID QuestionID  \\\n",
       "0                                            NaN     C01   TOC11        Q43   \n",
       "1   POINT (-86.63186076199969 32.84057112200048)     C05   TMC01        Q03   \n",
       "2  POINT (-120.15503132599969 44.56744942400047)     C05   TMC03        Q27   \n",
       "3    POINT (-99.36572062299967 41.6410409880005)     C05   TMC03        Q27   \n",
       "4  POINT (-86.14996019399968 39.766910452000445)     C05   TMC03        Q27   \n",
       "\n",
       "  LocationID  Low_Confidence_Limit  High_Confidence_Limit  \n",
       "0       9003                  35.9                   37.7  \n",
       "1          1                  13.4                   17.9  \n",
       "2         41                  16.0                   33.2  \n",
       "3         31                  12.6                   14.6  \n",
       "4         18                  23.9                   27.3  \n",
       "\n",
       "[5 rows x 21 columns]"
      ]
     },
     "execution_count": 85,
     "metadata": {},
     "output_type": "execute_result"
    }
   ],
   "source": [
    "df.head()"
   ]
  },
  {
   "cell_type": "markdown",
   "id": "6c8aab6a",
   "metadata": {},
   "source": [
    "<b> Change All Null Values in 'Gender/Race' Column into 'Unknown' </b>"
   ]
  },
  {
   "cell_type": "code",
   "execution_count": 86,
   "id": "eeb15ad1",
   "metadata": {},
   "outputs": [],
   "source": [
    "df['Gender/Race'].fillna('Unknown', inplace = True)"
   ]
  },
  {
   "cell_type": "markdown",
   "id": "f62d1e82",
   "metadata": {},
   "source": [
    "<b> Change All Null Values in 'Geolocation' Column into 'Unknown' </b>"
   ]
  },
  {
   "cell_type": "code",
   "execution_count": 87,
   "id": "a2ef5bb1",
   "metadata": {},
   "outputs": [],
   "source": [
    "df['Geolocation'].fillna('Unknown', inplace = True)"
   ]
  },
  {
   "cell_type": "code",
   "execution_count": 88,
   "id": "86f1ec89",
   "metadata": {},
   "outputs": [
    {
     "name": "stdout",
     "output_type": "stream",
     "text": [
      "<class 'pandas.core.frame.DataFrame'>\n",
      "Int64Index: 169302 entries, 0 to 250935\n",
      "Data columns (total 21 columns):\n",
      " #   Column                      Non-Null Count   Dtype  \n",
      "---  ------                      --------------   -----  \n",
      " 0   YearStart                   169302 non-null  int64  \n",
      " 1   YearEnd                     169302 non-null  int64  \n",
      " 2   LocationAbbr                169302 non-null  object \n",
      " 3   LocationDesc                169302 non-null  object \n",
      " 4   Class                       169302 non-null  object \n",
      " 5   Topic                       169302 non-null  object \n",
      " 6   Question                    169302 non-null  object \n",
      " 7   Data_Value_Unit             169302 non-null  object \n",
      " 8   DataValueTypeID             169302 non-null  object \n",
      " 9   Data_Value                  169302 non-null  float64\n",
      " 10  Data_Value_Footnote_Symbol  169302 non-null  object \n",
      " 11  Data_Value_Footnote         169302 non-null  object \n",
      " 12  Age Group                   169302 non-null  object \n",
      " 13  Gender/Race                 169302 non-null  object \n",
      " 14  Geolocation                 169302 non-null  object \n",
      " 15  ClassID                     169302 non-null  object \n",
      " 16  TopicID                     169302 non-null  object \n",
      " 17  QuestionID                  169302 non-null  object \n",
      " 18  LocationID                  169302 non-null  int64  \n",
      " 19  Low_Confidence_Limit        169126 non-null  float64\n",
      " 20  High_Confidence_Limit       169126 non-null  float64\n",
      "dtypes: float64(3), int64(3), object(15)\n",
      "memory usage: 28.4+ MB\n"
     ]
    }
   ],
   "source": [
    "df.info()"
   ]
  },
  {
   "cell_type": "code",
   "execution_count": 89,
   "id": "a0f3027d",
   "metadata": {},
   "outputs": [
    {
     "data": {
      "text/html": [
       "<div>\n",
       "<style scoped>\n",
       "    .dataframe tbody tr th:only-of-type {\n",
       "        vertical-align: middle;\n",
       "    }\n",
       "\n",
       "    .dataframe tbody tr th {\n",
       "        vertical-align: top;\n",
       "    }\n",
       "\n",
       "    .dataframe thead th {\n",
       "        text-align: right;\n",
       "    }\n",
       "</style>\n",
       "<table border=\"1\" class=\"dataframe\">\n",
       "  <thead>\n",
       "    <tr style=\"text-align: right;\">\n",
       "      <th></th>\n",
       "      <th>Geolocation</th>\n",
       "      <th>Low_Confidence_Limit</th>\n",
       "      <th>High_Confidence_Limit</th>\n",
       "    </tr>\n",
       "  </thead>\n",
       "  <tbody>\n",
       "    <tr>\n",
       "      <th>40636</th>\n",
       "      <td>Unknown</td>\n",
       "      <td>NaN</td>\n",
       "      <td>NaN</td>\n",
       "    </tr>\n",
       "    <tr>\n",
       "      <th>41464</th>\n",
       "      <td>Unknown</td>\n",
       "      <td>NaN</td>\n",
       "      <td>NaN</td>\n",
       "    </tr>\n",
       "    <tr>\n",
       "      <th>43051</th>\n",
       "      <td>Unknown</td>\n",
       "      <td>NaN</td>\n",
       "      <td>NaN</td>\n",
       "    </tr>\n",
       "    <tr>\n",
       "      <th>45192</th>\n",
       "      <td>Unknown</td>\n",
       "      <td>NaN</td>\n",
       "      <td>NaN</td>\n",
       "    </tr>\n",
       "    <tr>\n",
       "      <th>46562</th>\n",
       "      <td>Unknown</td>\n",
       "      <td>NaN</td>\n",
       "      <td>NaN</td>\n",
       "    </tr>\n",
       "    <tr>\n",
       "      <th>...</th>\n",
       "      <td>...</td>\n",
       "      <td>...</td>\n",
       "      <td>...</td>\n",
       "    </tr>\n",
       "    <tr>\n",
       "      <th>249758</th>\n",
       "      <td>Unknown</td>\n",
       "      <td>NaN</td>\n",
       "      <td>NaN</td>\n",
       "    </tr>\n",
       "    <tr>\n",
       "      <th>249823</th>\n",
       "      <td>Unknown</td>\n",
       "      <td>NaN</td>\n",
       "      <td>NaN</td>\n",
       "    </tr>\n",
       "    <tr>\n",
       "      <th>249890</th>\n",
       "      <td>Unknown</td>\n",
       "      <td>NaN</td>\n",
       "      <td>NaN</td>\n",
       "    </tr>\n",
       "    <tr>\n",
       "      <th>249973</th>\n",
       "      <td>Unknown</td>\n",
       "      <td>NaN</td>\n",
       "      <td>NaN</td>\n",
       "    </tr>\n",
       "    <tr>\n",
       "      <th>250801</th>\n",
       "      <td>Unknown</td>\n",
       "      <td>NaN</td>\n",
       "      <td>NaN</td>\n",
       "    </tr>\n",
       "  </tbody>\n",
       "</table>\n",
       "<p>176 rows × 3 columns</p>\n",
       "</div>"
      ],
      "text/plain": [
       "       Geolocation  Low_Confidence_Limit  High_Confidence_Limit\n",
       "40636      Unknown                   NaN                    NaN\n",
       "41464      Unknown                   NaN                    NaN\n",
       "43051      Unknown                   NaN                    NaN\n",
       "45192      Unknown                   NaN                    NaN\n",
       "46562      Unknown                   NaN                    NaN\n",
       "...            ...                   ...                    ...\n",
       "249758     Unknown                   NaN                    NaN\n",
       "249823     Unknown                   NaN                    NaN\n",
       "249890     Unknown                   NaN                    NaN\n",
       "249973     Unknown                   NaN                    NaN\n",
       "250801     Unknown                   NaN                    NaN\n",
       "\n",
       "[176 rows x 3 columns]"
      ]
     },
     "execution_count": 89,
     "metadata": {},
     "output_type": "execute_result"
    }
   ],
   "source": [
    "df[df['Low_Confidence_Limit'].isnull()][['Geolocation', 'Low_Confidence_Limit', 'High_Confidence_Limit']]"
   ]
  },
  {
   "cell_type": "code",
   "execution_count": 90,
   "id": "ab2031e5",
   "metadata": {},
   "outputs": [],
   "source": [
    "pd.set_option('display.max_rows', None)\n"
   ]
  },
  {
   "cell_type": "code",
   "execution_count": 91,
   "id": "b4542023",
   "metadata": {},
   "outputs": [
    {
     "data": {
      "text/html": [
       "<div>\n",
       "<style scoped>\n",
       "    .dataframe tbody tr th:only-of-type {\n",
       "        vertical-align: middle;\n",
       "    }\n",
       "\n",
       "    .dataframe tbody tr th {\n",
       "        vertical-align: top;\n",
       "    }\n",
       "\n",
       "    .dataframe thead th {\n",
       "        text-align: right;\n",
       "    }\n",
       "</style>\n",
       "<table border=\"1\" class=\"dataframe\">\n",
       "  <thead>\n",
       "    <tr style=\"text-align: right;\">\n",
       "      <th></th>\n",
       "      <th>Geolocation</th>\n",
       "      <th>Low_Confidence_Limit</th>\n",
       "      <th>High_Confidence_Limit</th>\n",
       "    </tr>\n",
       "  </thead>\n",
       "  <tbody>\n",
       "    <tr>\n",
       "      <th>40636</th>\n",
       "      <td>Unknown</td>\n",
       "      <td>NaN</td>\n",
       "      <td>NaN</td>\n",
       "    </tr>\n",
       "    <tr>\n",
       "      <th>41464</th>\n",
       "      <td>Unknown</td>\n",
       "      <td>NaN</td>\n",
       "      <td>NaN</td>\n",
       "    </tr>\n",
       "    <tr>\n",
       "      <th>43051</th>\n",
       "      <td>Unknown</td>\n",
       "      <td>NaN</td>\n",
       "      <td>NaN</td>\n",
       "    </tr>\n",
       "    <tr>\n",
       "      <th>45192</th>\n",
       "      <td>Unknown</td>\n",
       "      <td>NaN</td>\n",
       "      <td>NaN</td>\n",
       "    </tr>\n",
       "    <tr>\n",
       "      <th>46562</th>\n",
       "      <td>Unknown</td>\n",
       "      <td>NaN</td>\n",
       "      <td>NaN</td>\n",
       "    </tr>\n",
       "    <tr>\n",
       "      <th>49414</th>\n",
       "      <td>Unknown</td>\n",
       "      <td>NaN</td>\n",
       "      <td>NaN</td>\n",
       "    </tr>\n",
       "    <tr>\n",
       "      <th>52113</th>\n",
       "      <td>Unknown</td>\n",
       "      <td>NaN</td>\n",
       "      <td>NaN</td>\n",
       "    </tr>\n",
       "    <tr>\n",
       "      <th>73014</th>\n",
       "      <td>Unknown</td>\n",
       "      <td>NaN</td>\n",
       "      <td>NaN</td>\n",
       "    </tr>\n",
       "    <tr>\n",
       "      <th>73484</th>\n",
       "      <td>Unknown</td>\n",
       "      <td>NaN</td>\n",
       "      <td>NaN</td>\n",
       "    </tr>\n",
       "    <tr>\n",
       "      <th>74293</th>\n",
       "      <td>Unknown</td>\n",
       "      <td>NaN</td>\n",
       "      <td>NaN</td>\n",
       "    </tr>\n",
       "    <tr>\n",
       "      <th>75438</th>\n",
       "      <td>Unknown</td>\n",
       "      <td>NaN</td>\n",
       "      <td>NaN</td>\n",
       "    </tr>\n",
       "    <tr>\n",
       "      <th>75974</th>\n",
       "      <td>Unknown</td>\n",
       "      <td>NaN</td>\n",
       "      <td>NaN</td>\n",
       "    </tr>\n",
       "    <tr>\n",
       "      <th>76895</th>\n",
       "      <td>Unknown</td>\n",
       "      <td>NaN</td>\n",
       "      <td>NaN</td>\n",
       "    </tr>\n",
       "    <tr>\n",
       "      <th>77249</th>\n",
       "      <td>Unknown</td>\n",
       "      <td>NaN</td>\n",
       "      <td>NaN</td>\n",
       "    </tr>\n",
       "    <tr>\n",
       "      <th>77330</th>\n",
       "      <td>Unknown</td>\n",
       "      <td>NaN</td>\n",
       "      <td>NaN</td>\n",
       "    </tr>\n",
       "    <tr>\n",
       "      <th>77385</th>\n",
       "      <td>Unknown</td>\n",
       "      <td>NaN</td>\n",
       "      <td>NaN</td>\n",
       "    </tr>\n",
       "    <tr>\n",
       "      <th>79444</th>\n",
       "      <td>Unknown</td>\n",
       "      <td>NaN</td>\n",
       "      <td>NaN</td>\n",
       "    </tr>\n",
       "    <tr>\n",
       "      <th>81213</th>\n",
       "      <td>Unknown</td>\n",
       "      <td>NaN</td>\n",
       "      <td>NaN</td>\n",
       "    </tr>\n",
       "    <tr>\n",
       "      <th>81659</th>\n",
       "      <td>Unknown</td>\n",
       "      <td>NaN</td>\n",
       "      <td>NaN</td>\n",
       "    </tr>\n",
       "    <tr>\n",
       "      <th>83461</th>\n",
       "      <td>Unknown</td>\n",
       "      <td>NaN</td>\n",
       "      <td>NaN</td>\n",
       "    </tr>\n",
       "    <tr>\n",
       "      <th>83961</th>\n",
       "      <td>Unknown</td>\n",
       "      <td>NaN</td>\n",
       "      <td>NaN</td>\n",
       "    </tr>\n",
       "    <tr>\n",
       "      <th>84445</th>\n",
       "      <td>Unknown</td>\n",
       "      <td>NaN</td>\n",
       "      <td>NaN</td>\n",
       "    </tr>\n",
       "    <tr>\n",
       "      <th>85791</th>\n",
       "      <td>Unknown</td>\n",
       "      <td>NaN</td>\n",
       "      <td>NaN</td>\n",
       "    </tr>\n",
       "    <tr>\n",
       "      <th>85797</th>\n",
       "      <td>Unknown</td>\n",
       "      <td>NaN</td>\n",
       "      <td>NaN</td>\n",
       "    </tr>\n",
       "    <tr>\n",
       "      <th>86367</th>\n",
       "      <td>Unknown</td>\n",
       "      <td>NaN</td>\n",
       "      <td>NaN</td>\n",
       "    </tr>\n",
       "    <tr>\n",
       "      <th>86517</th>\n",
       "      <td>Unknown</td>\n",
       "      <td>NaN</td>\n",
       "      <td>NaN</td>\n",
       "    </tr>\n",
       "    <tr>\n",
       "      <th>86543</th>\n",
       "      <td>Unknown</td>\n",
       "      <td>NaN</td>\n",
       "      <td>NaN</td>\n",
       "    </tr>\n",
       "    <tr>\n",
       "      <th>87480</th>\n",
       "      <td>Unknown</td>\n",
       "      <td>NaN</td>\n",
       "      <td>NaN</td>\n",
       "    </tr>\n",
       "    <tr>\n",
       "      <th>88210</th>\n",
       "      <td>Unknown</td>\n",
       "      <td>NaN</td>\n",
       "      <td>NaN</td>\n",
       "    </tr>\n",
       "    <tr>\n",
       "      <th>88888</th>\n",
       "      <td>Unknown</td>\n",
       "      <td>NaN</td>\n",
       "      <td>NaN</td>\n",
       "    </tr>\n",
       "    <tr>\n",
       "      <th>89177</th>\n",
       "      <td>Unknown</td>\n",
       "      <td>NaN</td>\n",
       "      <td>NaN</td>\n",
       "    </tr>\n",
       "    <tr>\n",
       "      <th>89654</th>\n",
       "      <td>Unknown</td>\n",
       "      <td>NaN</td>\n",
       "      <td>NaN</td>\n",
       "    </tr>\n",
       "    <tr>\n",
       "      <th>89670</th>\n",
       "      <td>Unknown</td>\n",
       "      <td>NaN</td>\n",
       "      <td>NaN</td>\n",
       "    </tr>\n",
       "    <tr>\n",
       "      <th>90209</th>\n",
       "      <td>Unknown</td>\n",
       "      <td>NaN</td>\n",
       "      <td>NaN</td>\n",
       "    </tr>\n",
       "    <tr>\n",
       "      <th>91552</th>\n",
       "      <td>Unknown</td>\n",
       "      <td>NaN</td>\n",
       "      <td>NaN</td>\n",
       "    </tr>\n",
       "    <tr>\n",
       "      <th>92063</th>\n",
       "      <td>Unknown</td>\n",
       "      <td>NaN</td>\n",
       "      <td>NaN</td>\n",
       "    </tr>\n",
       "    <tr>\n",
       "      <th>92415</th>\n",
       "      <td>Unknown</td>\n",
       "      <td>NaN</td>\n",
       "      <td>NaN</td>\n",
       "    </tr>\n",
       "    <tr>\n",
       "      <th>92458</th>\n",
       "      <td>Unknown</td>\n",
       "      <td>NaN</td>\n",
       "      <td>NaN</td>\n",
       "    </tr>\n",
       "    <tr>\n",
       "      <th>92459</th>\n",
       "      <td>Unknown</td>\n",
       "      <td>NaN</td>\n",
       "      <td>NaN</td>\n",
       "    </tr>\n",
       "    <tr>\n",
       "      <th>93618</th>\n",
       "      <td>Unknown</td>\n",
       "      <td>NaN</td>\n",
       "      <td>NaN</td>\n",
       "    </tr>\n",
       "    <tr>\n",
       "      <th>94105</th>\n",
       "      <td>Unknown</td>\n",
       "      <td>NaN</td>\n",
       "      <td>NaN</td>\n",
       "    </tr>\n",
       "    <tr>\n",
       "      <th>130189</th>\n",
       "      <td>Unknown</td>\n",
       "      <td>NaN</td>\n",
       "      <td>NaN</td>\n",
       "    </tr>\n",
       "    <tr>\n",
       "      <th>134473</th>\n",
       "      <td>Unknown</td>\n",
       "      <td>NaN</td>\n",
       "      <td>NaN</td>\n",
       "    </tr>\n",
       "    <tr>\n",
       "      <th>138488</th>\n",
       "      <td>Unknown</td>\n",
       "      <td>NaN</td>\n",
       "      <td>NaN</td>\n",
       "    </tr>\n",
       "    <tr>\n",
       "      <th>138867</th>\n",
       "      <td>Unknown</td>\n",
       "      <td>NaN</td>\n",
       "      <td>NaN</td>\n",
       "    </tr>\n",
       "    <tr>\n",
       "      <th>139016</th>\n",
       "      <td>Unknown</td>\n",
       "      <td>NaN</td>\n",
       "      <td>NaN</td>\n",
       "    </tr>\n",
       "    <tr>\n",
       "      <th>139399</th>\n",
       "      <td>Unknown</td>\n",
       "      <td>NaN</td>\n",
       "      <td>NaN</td>\n",
       "    </tr>\n",
       "    <tr>\n",
       "      <th>139535</th>\n",
       "      <td>Unknown</td>\n",
       "      <td>NaN</td>\n",
       "      <td>NaN</td>\n",
       "    </tr>\n",
       "    <tr>\n",
       "      <th>139676</th>\n",
       "      <td>Unknown</td>\n",
       "      <td>NaN</td>\n",
       "      <td>NaN</td>\n",
       "    </tr>\n",
       "    <tr>\n",
       "      <th>140291</th>\n",
       "      <td>Unknown</td>\n",
       "      <td>NaN</td>\n",
       "      <td>NaN</td>\n",
       "    </tr>\n",
       "    <tr>\n",
       "      <th>141623</th>\n",
       "      <td>Unknown</td>\n",
       "      <td>NaN</td>\n",
       "      <td>NaN</td>\n",
       "    </tr>\n",
       "    <tr>\n",
       "      <th>142482</th>\n",
       "      <td>Unknown</td>\n",
       "      <td>NaN</td>\n",
       "      <td>NaN</td>\n",
       "    </tr>\n",
       "    <tr>\n",
       "      <th>142713</th>\n",
       "      <td>Unknown</td>\n",
       "      <td>NaN</td>\n",
       "      <td>NaN</td>\n",
       "    </tr>\n",
       "    <tr>\n",
       "      <th>142806</th>\n",
       "      <td>Unknown</td>\n",
       "      <td>NaN</td>\n",
       "      <td>NaN</td>\n",
       "    </tr>\n",
       "    <tr>\n",
       "      <th>143871</th>\n",
       "      <td>Unknown</td>\n",
       "      <td>NaN</td>\n",
       "      <td>NaN</td>\n",
       "    </tr>\n",
       "    <tr>\n",
       "      <th>144206</th>\n",
       "      <td>Unknown</td>\n",
       "      <td>NaN</td>\n",
       "      <td>NaN</td>\n",
       "    </tr>\n",
       "    <tr>\n",
       "      <th>144303</th>\n",
       "      <td>Unknown</td>\n",
       "      <td>NaN</td>\n",
       "      <td>NaN</td>\n",
       "    </tr>\n",
       "    <tr>\n",
       "      <th>144911</th>\n",
       "      <td>Unknown</td>\n",
       "      <td>NaN</td>\n",
       "      <td>NaN</td>\n",
       "    </tr>\n",
       "    <tr>\n",
       "      <th>145116</th>\n",
       "      <td>Unknown</td>\n",
       "      <td>NaN</td>\n",
       "      <td>NaN</td>\n",
       "    </tr>\n",
       "    <tr>\n",
       "      <th>146639</th>\n",
       "      <td>Unknown</td>\n",
       "      <td>NaN</td>\n",
       "      <td>NaN</td>\n",
       "    </tr>\n",
       "    <tr>\n",
       "      <th>146859</th>\n",
       "      <td>Unknown</td>\n",
       "      <td>NaN</td>\n",
       "      <td>NaN</td>\n",
       "    </tr>\n",
       "    <tr>\n",
       "      <th>147082</th>\n",
       "      <td>Unknown</td>\n",
       "      <td>NaN</td>\n",
       "      <td>NaN</td>\n",
       "    </tr>\n",
       "    <tr>\n",
       "      <th>147415</th>\n",
       "      <td>Unknown</td>\n",
       "      <td>NaN</td>\n",
       "      <td>NaN</td>\n",
       "    </tr>\n",
       "    <tr>\n",
       "      <th>147428</th>\n",
       "      <td>Unknown</td>\n",
       "      <td>NaN</td>\n",
       "      <td>NaN</td>\n",
       "    </tr>\n",
       "    <tr>\n",
       "      <th>147486</th>\n",
       "      <td>Unknown</td>\n",
       "      <td>NaN</td>\n",
       "      <td>NaN</td>\n",
       "    </tr>\n",
       "    <tr>\n",
       "      <th>147746</th>\n",
       "      <td>Unknown</td>\n",
       "      <td>NaN</td>\n",
       "      <td>NaN</td>\n",
       "    </tr>\n",
       "    <tr>\n",
       "      <th>147777</th>\n",
       "      <td>Unknown</td>\n",
       "      <td>NaN</td>\n",
       "      <td>NaN</td>\n",
       "    </tr>\n",
       "    <tr>\n",
       "      <th>148280</th>\n",
       "      <td>Unknown</td>\n",
       "      <td>NaN</td>\n",
       "      <td>NaN</td>\n",
       "    </tr>\n",
       "    <tr>\n",
       "      <th>148304</th>\n",
       "      <td>Unknown</td>\n",
       "      <td>NaN</td>\n",
       "      <td>NaN</td>\n",
       "    </tr>\n",
       "    <tr>\n",
       "      <th>148345</th>\n",
       "      <td>Unknown</td>\n",
       "      <td>NaN</td>\n",
       "      <td>NaN</td>\n",
       "    </tr>\n",
       "    <tr>\n",
       "      <th>148363</th>\n",
       "      <td>Unknown</td>\n",
       "      <td>NaN</td>\n",
       "      <td>NaN</td>\n",
       "    </tr>\n",
       "    <tr>\n",
       "      <th>148400</th>\n",
       "      <td>Unknown</td>\n",
       "      <td>NaN</td>\n",
       "      <td>NaN</td>\n",
       "    </tr>\n",
       "    <tr>\n",
       "      <th>148430</th>\n",
       "      <td>Unknown</td>\n",
       "      <td>NaN</td>\n",
       "      <td>NaN</td>\n",
       "    </tr>\n",
       "    <tr>\n",
       "      <th>148516</th>\n",
       "      <td>Unknown</td>\n",
       "      <td>NaN</td>\n",
       "      <td>NaN</td>\n",
       "    </tr>\n",
       "    <tr>\n",
       "      <th>148526</th>\n",
       "      <td>Unknown</td>\n",
       "      <td>NaN</td>\n",
       "      <td>NaN</td>\n",
       "    </tr>\n",
       "    <tr>\n",
       "      <th>148815</th>\n",
       "      <td>Unknown</td>\n",
       "      <td>NaN</td>\n",
       "      <td>NaN</td>\n",
       "    </tr>\n",
       "    <tr>\n",
       "      <th>148835</th>\n",
       "      <td>Unknown</td>\n",
       "      <td>NaN</td>\n",
       "      <td>NaN</td>\n",
       "    </tr>\n",
       "    <tr>\n",
       "      <th>149165</th>\n",
       "      <td>Unknown</td>\n",
       "      <td>NaN</td>\n",
       "      <td>NaN</td>\n",
       "    </tr>\n",
       "    <tr>\n",
       "      <th>149349</th>\n",
       "      <td>Unknown</td>\n",
       "      <td>NaN</td>\n",
       "      <td>NaN</td>\n",
       "    </tr>\n",
       "    <tr>\n",
       "      <th>149792</th>\n",
       "      <td>Unknown</td>\n",
       "      <td>NaN</td>\n",
       "      <td>NaN</td>\n",
       "    </tr>\n",
       "    <tr>\n",
       "      <th>149932</th>\n",
       "      <td>Unknown</td>\n",
       "      <td>NaN</td>\n",
       "      <td>NaN</td>\n",
       "    </tr>\n",
       "    <tr>\n",
       "      <th>150487</th>\n",
       "      <td>Unknown</td>\n",
       "      <td>NaN</td>\n",
       "      <td>NaN</td>\n",
       "    </tr>\n",
       "    <tr>\n",
       "      <th>150723</th>\n",
       "      <td>Unknown</td>\n",
       "      <td>NaN</td>\n",
       "      <td>NaN</td>\n",
       "    </tr>\n",
       "    <tr>\n",
       "      <th>151012</th>\n",
       "      <td>Unknown</td>\n",
       "      <td>NaN</td>\n",
       "      <td>NaN</td>\n",
       "    </tr>\n",
       "    <tr>\n",
       "      <th>151021</th>\n",
       "      <td>Unknown</td>\n",
       "      <td>NaN</td>\n",
       "      <td>NaN</td>\n",
       "    </tr>\n",
       "    <tr>\n",
       "      <th>151344</th>\n",
       "      <td>Unknown</td>\n",
       "      <td>NaN</td>\n",
       "      <td>NaN</td>\n",
       "    </tr>\n",
       "    <tr>\n",
       "      <th>151557</th>\n",
       "      <td>Unknown</td>\n",
       "      <td>NaN</td>\n",
       "      <td>NaN</td>\n",
       "    </tr>\n",
       "    <tr>\n",
       "      <th>151670</th>\n",
       "      <td>Unknown</td>\n",
       "      <td>NaN</td>\n",
       "      <td>NaN</td>\n",
       "    </tr>\n",
       "    <tr>\n",
       "      <th>151736</th>\n",
       "      <td>Unknown</td>\n",
       "      <td>NaN</td>\n",
       "      <td>NaN</td>\n",
       "    </tr>\n",
       "    <tr>\n",
       "      <th>152038</th>\n",
       "      <td>Unknown</td>\n",
       "      <td>NaN</td>\n",
       "      <td>NaN</td>\n",
       "    </tr>\n",
       "    <tr>\n",
       "      <th>152375</th>\n",
       "      <td>Unknown</td>\n",
       "      <td>NaN</td>\n",
       "      <td>NaN</td>\n",
       "    </tr>\n",
       "    <tr>\n",
       "      <th>152896</th>\n",
       "      <td>Unknown</td>\n",
       "      <td>NaN</td>\n",
       "      <td>NaN</td>\n",
       "    </tr>\n",
       "    <tr>\n",
       "      <th>152956</th>\n",
       "      <td>Unknown</td>\n",
       "      <td>NaN</td>\n",
       "      <td>NaN</td>\n",
       "    </tr>\n",
       "    <tr>\n",
       "      <th>153226</th>\n",
       "      <td>Unknown</td>\n",
       "      <td>NaN</td>\n",
       "      <td>NaN</td>\n",
       "    </tr>\n",
       "    <tr>\n",
       "      <th>153633</th>\n",
       "      <td>Unknown</td>\n",
       "      <td>NaN</td>\n",
       "      <td>NaN</td>\n",
       "    </tr>\n",
       "    <tr>\n",
       "      <th>153687</th>\n",
       "      <td>Unknown</td>\n",
       "      <td>NaN</td>\n",
       "      <td>NaN</td>\n",
       "    </tr>\n",
       "    <tr>\n",
       "      <th>154315</th>\n",
       "      <td>Unknown</td>\n",
       "      <td>NaN</td>\n",
       "      <td>NaN</td>\n",
       "    </tr>\n",
       "    <tr>\n",
       "      <th>155147</th>\n",
       "      <td>Unknown</td>\n",
       "      <td>NaN</td>\n",
       "      <td>NaN</td>\n",
       "    </tr>\n",
       "    <tr>\n",
       "      <th>155718</th>\n",
       "      <td>Unknown</td>\n",
       "      <td>NaN</td>\n",
       "      <td>NaN</td>\n",
       "    </tr>\n",
       "    <tr>\n",
       "      <th>156018</th>\n",
       "      <td>Unknown</td>\n",
       "      <td>NaN</td>\n",
       "      <td>NaN</td>\n",
       "    </tr>\n",
       "    <tr>\n",
       "      <th>156024</th>\n",
       "      <td>Unknown</td>\n",
       "      <td>NaN</td>\n",
       "      <td>NaN</td>\n",
       "    </tr>\n",
       "    <tr>\n",
       "      <th>156093</th>\n",
       "      <td>Unknown</td>\n",
       "      <td>NaN</td>\n",
       "      <td>NaN</td>\n",
       "    </tr>\n",
       "    <tr>\n",
       "      <th>156222</th>\n",
       "      <td>Unknown</td>\n",
       "      <td>NaN</td>\n",
       "      <td>NaN</td>\n",
       "    </tr>\n",
       "    <tr>\n",
       "      <th>156377</th>\n",
       "      <td>Unknown</td>\n",
       "      <td>NaN</td>\n",
       "      <td>NaN</td>\n",
       "    </tr>\n",
       "    <tr>\n",
       "      <th>156499</th>\n",
       "      <td>Unknown</td>\n",
       "      <td>NaN</td>\n",
       "      <td>NaN</td>\n",
       "    </tr>\n",
       "    <tr>\n",
       "      <th>156695</th>\n",
       "      <td>Unknown</td>\n",
       "      <td>NaN</td>\n",
       "      <td>NaN</td>\n",
       "    </tr>\n",
       "    <tr>\n",
       "      <th>157001</th>\n",
       "      <td>Unknown</td>\n",
       "      <td>NaN</td>\n",
       "      <td>NaN</td>\n",
       "    </tr>\n",
       "    <tr>\n",
       "      <th>157003</th>\n",
       "      <td>Unknown</td>\n",
       "      <td>NaN</td>\n",
       "      <td>NaN</td>\n",
       "    </tr>\n",
       "    <tr>\n",
       "      <th>157196</th>\n",
       "      <td>Unknown</td>\n",
       "      <td>NaN</td>\n",
       "      <td>NaN</td>\n",
       "    </tr>\n",
       "    <tr>\n",
       "      <th>157209</th>\n",
       "      <td>Unknown</td>\n",
       "      <td>NaN</td>\n",
       "      <td>NaN</td>\n",
       "    </tr>\n",
       "    <tr>\n",
       "      <th>157271</th>\n",
       "      <td>Unknown</td>\n",
       "      <td>NaN</td>\n",
       "      <td>NaN</td>\n",
       "    </tr>\n",
       "    <tr>\n",
       "      <th>157678</th>\n",
       "      <td>Unknown</td>\n",
       "      <td>NaN</td>\n",
       "      <td>NaN</td>\n",
       "    </tr>\n",
       "    <tr>\n",
       "      <th>169049</th>\n",
       "      <td>Unknown</td>\n",
       "      <td>NaN</td>\n",
       "      <td>NaN</td>\n",
       "    </tr>\n",
       "    <tr>\n",
       "      <th>179278</th>\n",
       "      <td>Unknown</td>\n",
       "      <td>NaN</td>\n",
       "      <td>NaN</td>\n",
       "    </tr>\n",
       "    <tr>\n",
       "      <th>181103</th>\n",
       "      <td>Unknown</td>\n",
       "      <td>NaN</td>\n",
       "      <td>NaN</td>\n",
       "    </tr>\n",
       "    <tr>\n",
       "      <th>184121</th>\n",
       "      <td>Unknown</td>\n",
       "      <td>NaN</td>\n",
       "      <td>NaN</td>\n",
       "    </tr>\n",
       "    <tr>\n",
       "      <th>186492</th>\n",
       "      <td>Unknown</td>\n",
       "      <td>NaN</td>\n",
       "      <td>NaN</td>\n",
       "    </tr>\n",
       "    <tr>\n",
       "      <th>186945</th>\n",
       "      <td>Unknown</td>\n",
       "      <td>NaN</td>\n",
       "      <td>NaN</td>\n",
       "    </tr>\n",
       "    <tr>\n",
       "      <th>187100</th>\n",
       "      <td>Unknown</td>\n",
       "      <td>NaN</td>\n",
       "      <td>NaN</td>\n",
       "    </tr>\n",
       "    <tr>\n",
       "      <th>187577</th>\n",
       "      <td>Unknown</td>\n",
       "      <td>NaN</td>\n",
       "      <td>NaN</td>\n",
       "    </tr>\n",
       "    <tr>\n",
       "      <th>187916</th>\n",
       "      <td>Unknown</td>\n",
       "      <td>NaN</td>\n",
       "      <td>NaN</td>\n",
       "    </tr>\n",
       "    <tr>\n",
       "      <th>210941</th>\n",
       "      <td>Unknown</td>\n",
       "      <td>NaN</td>\n",
       "      <td>NaN</td>\n",
       "    </tr>\n",
       "    <tr>\n",
       "      <th>212332</th>\n",
       "      <td>Unknown</td>\n",
       "      <td>NaN</td>\n",
       "      <td>NaN</td>\n",
       "    </tr>\n",
       "    <tr>\n",
       "      <th>213513</th>\n",
       "      <td>Unknown</td>\n",
       "      <td>NaN</td>\n",
       "      <td>NaN</td>\n",
       "    </tr>\n",
       "    <tr>\n",
       "      <th>214307</th>\n",
       "      <td>Unknown</td>\n",
       "      <td>NaN</td>\n",
       "      <td>NaN</td>\n",
       "    </tr>\n",
       "    <tr>\n",
       "      <th>214462</th>\n",
       "      <td>Unknown</td>\n",
       "      <td>NaN</td>\n",
       "      <td>NaN</td>\n",
       "    </tr>\n",
       "    <tr>\n",
       "      <th>215719</th>\n",
       "      <td>Unknown</td>\n",
       "      <td>NaN</td>\n",
       "      <td>NaN</td>\n",
       "    </tr>\n",
       "    <tr>\n",
       "      <th>216130</th>\n",
       "      <td>Unknown</td>\n",
       "      <td>NaN</td>\n",
       "      <td>NaN</td>\n",
       "    </tr>\n",
       "    <tr>\n",
       "      <th>216812</th>\n",
       "      <td>Unknown</td>\n",
       "      <td>NaN</td>\n",
       "      <td>NaN</td>\n",
       "    </tr>\n",
       "    <tr>\n",
       "      <th>217152</th>\n",
       "      <td>Unknown</td>\n",
       "      <td>NaN</td>\n",
       "      <td>NaN</td>\n",
       "    </tr>\n",
       "    <tr>\n",
       "      <th>217696</th>\n",
       "      <td>Unknown</td>\n",
       "      <td>NaN</td>\n",
       "      <td>NaN</td>\n",
       "    </tr>\n",
       "    <tr>\n",
       "      <th>217785</th>\n",
       "      <td>Unknown</td>\n",
       "      <td>NaN</td>\n",
       "      <td>NaN</td>\n",
       "    </tr>\n",
       "    <tr>\n",
       "      <th>218537</th>\n",
       "      <td>Unknown</td>\n",
       "      <td>NaN</td>\n",
       "      <td>NaN</td>\n",
       "    </tr>\n",
       "    <tr>\n",
       "      <th>219039</th>\n",
       "      <td>Unknown</td>\n",
       "      <td>NaN</td>\n",
       "      <td>NaN</td>\n",
       "    </tr>\n",
       "    <tr>\n",
       "      <th>220001</th>\n",
       "      <td>Unknown</td>\n",
       "      <td>NaN</td>\n",
       "      <td>NaN</td>\n",
       "    </tr>\n",
       "    <tr>\n",
       "      <th>220051</th>\n",
       "      <td>Unknown</td>\n",
       "      <td>NaN</td>\n",
       "      <td>NaN</td>\n",
       "    </tr>\n",
       "    <tr>\n",
       "      <th>220098</th>\n",
       "      <td>Unknown</td>\n",
       "      <td>NaN</td>\n",
       "      <td>NaN</td>\n",
       "    </tr>\n",
       "    <tr>\n",
       "      <th>220179</th>\n",
       "      <td>Unknown</td>\n",
       "      <td>NaN</td>\n",
       "      <td>NaN</td>\n",
       "    </tr>\n",
       "    <tr>\n",
       "      <th>221669</th>\n",
       "      <td>Unknown</td>\n",
       "      <td>NaN</td>\n",
       "      <td>NaN</td>\n",
       "    </tr>\n",
       "    <tr>\n",
       "      <th>226059</th>\n",
       "      <td>Unknown</td>\n",
       "      <td>NaN</td>\n",
       "      <td>NaN</td>\n",
       "    </tr>\n",
       "    <tr>\n",
       "      <th>231555</th>\n",
       "      <td>Unknown</td>\n",
       "      <td>NaN</td>\n",
       "      <td>NaN</td>\n",
       "    </tr>\n",
       "    <tr>\n",
       "      <th>231906</th>\n",
       "      <td>Unknown</td>\n",
       "      <td>NaN</td>\n",
       "      <td>NaN</td>\n",
       "    </tr>\n",
       "    <tr>\n",
       "      <th>232131</th>\n",
       "      <td>Unknown</td>\n",
       "      <td>NaN</td>\n",
       "      <td>NaN</td>\n",
       "    </tr>\n",
       "    <tr>\n",
       "      <th>232323</th>\n",
       "      <td>Unknown</td>\n",
       "      <td>NaN</td>\n",
       "      <td>NaN</td>\n",
       "    </tr>\n",
       "    <tr>\n",
       "      <th>232749</th>\n",
       "      <td>Unknown</td>\n",
       "      <td>NaN</td>\n",
       "      <td>NaN</td>\n",
       "    </tr>\n",
       "    <tr>\n",
       "      <th>233413</th>\n",
       "      <td>Unknown</td>\n",
       "      <td>NaN</td>\n",
       "      <td>NaN</td>\n",
       "    </tr>\n",
       "    <tr>\n",
       "      <th>234794</th>\n",
       "      <td>Unknown</td>\n",
       "      <td>NaN</td>\n",
       "      <td>NaN</td>\n",
       "    </tr>\n",
       "    <tr>\n",
       "      <th>234979</th>\n",
       "      <td>Unknown</td>\n",
       "      <td>NaN</td>\n",
       "      <td>NaN</td>\n",
       "    </tr>\n",
       "    <tr>\n",
       "      <th>235379</th>\n",
       "      <td>Unknown</td>\n",
       "      <td>NaN</td>\n",
       "      <td>NaN</td>\n",
       "    </tr>\n",
       "    <tr>\n",
       "      <th>236473</th>\n",
       "      <td>Unknown</td>\n",
       "      <td>NaN</td>\n",
       "      <td>NaN</td>\n",
       "    </tr>\n",
       "    <tr>\n",
       "      <th>236475</th>\n",
       "      <td>Unknown</td>\n",
       "      <td>NaN</td>\n",
       "      <td>NaN</td>\n",
       "    </tr>\n",
       "    <tr>\n",
       "      <th>236695</th>\n",
       "      <td>Unknown</td>\n",
       "      <td>NaN</td>\n",
       "      <td>NaN</td>\n",
       "    </tr>\n",
       "    <tr>\n",
       "      <th>236733</th>\n",
       "      <td>Unknown</td>\n",
       "      <td>NaN</td>\n",
       "      <td>NaN</td>\n",
       "    </tr>\n",
       "    <tr>\n",
       "      <th>236773</th>\n",
       "      <td>Unknown</td>\n",
       "      <td>NaN</td>\n",
       "      <td>NaN</td>\n",
       "    </tr>\n",
       "    <tr>\n",
       "      <th>236841</th>\n",
       "      <td>Unknown</td>\n",
       "      <td>NaN</td>\n",
       "      <td>NaN</td>\n",
       "    </tr>\n",
       "    <tr>\n",
       "      <th>237473</th>\n",
       "      <td>Unknown</td>\n",
       "      <td>NaN</td>\n",
       "      <td>NaN</td>\n",
       "    </tr>\n",
       "    <tr>\n",
       "      <th>237483</th>\n",
       "      <td>Unknown</td>\n",
       "      <td>NaN</td>\n",
       "      <td>NaN</td>\n",
       "    </tr>\n",
       "    <tr>\n",
       "      <th>237859</th>\n",
       "      <td>Unknown</td>\n",
       "      <td>NaN</td>\n",
       "      <td>NaN</td>\n",
       "    </tr>\n",
       "    <tr>\n",
       "      <th>238444</th>\n",
       "      <td>Unknown</td>\n",
       "      <td>NaN</td>\n",
       "      <td>NaN</td>\n",
       "    </tr>\n",
       "    <tr>\n",
       "      <th>238492</th>\n",
       "      <td>Unknown</td>\n",
       "      <td>NaN</td>\n",
       "      <td>NaN</td>\n",
       "    </tr>\n",
       "    <tr>\n",
       "      <th>239141</th>\n",
       "      <td>Unknown</td>\n",
       "      <td>NaN</td>\n",
       "      <td>NaN</td>\n",
       "    </tr>\n",
       "    <tr>\n",
       "      <th>239435</th>\n",
       "      <td>Unknown</td>\n",
       "      <td>NaN</td>\n",
       "      <td>NaN</td>\n",
       "    </tr>\n",
       "    <tr>\n",
       "      <th>240450</th>\n",
       "      <td>Unknown</td>\n",
       "      <td>NaN</td>\n",
       "      <td>NaN</td>\n",
       "    </tr>\n",
       "    <tr>\n",
       "      <th>240503</th>\n",
       "      <td>Unknown</td>\n",
       "      <td>NaN</td>\n",
       "      <td>NaN</td>\n",
       "    </tr>\n",
       "    <tr>\n",
       "      <th>240918</th>\n",
       "      <td>Unknown</td>\n",
       "      <td>NaN</td>\n",
       "      <td>NaN</td>\n",
       "    </tr>\n",
       "    <tr>\n",
       "      <th>241199</th>\n",
       "      <td>Unknown</td>\n",
       "      <td>NaN</td>\n",
       "      <td>NaN</td>\n",
       "    </tr>\n",
       "    <tr>\n",
       "      <th>241513</th>\n",
       "      <td>Unknown</td>\n",
       "      <td>NaN</td>\n",
       "      <td>NaN</td>\n",
       "    </tr>\n",
       "    <tr>\n",
       "      <th>241672</th>\n",
       "      <td>Unknown</td>\n",
       "      <td>NaN</td>\n",
       "      <td>NaN</td>\n",
       "    </tr>\n",
       "    <tr>\n",
       "      <th>246017</th>\n",
       "      <td>Unknown</td>\n",
       "      <td>NaN</td>\n",
       "      <td>NaN</td>\n",
       "    </tr>\n",
       "    <tr>\n",
       "      <th>246600</th>\n",
       "      <td>Unknown</td>\n",
       "      <td>NaN</td>\n",
       "      <td>NaN</td>\n",
       "    </tr>\n",
       "    <tr>\n",
       "      <th>249423</th>\n",
       "      <td>Unknown</td>\n",
       "      <td>NaN</td>\n",
       "      <td>NaN</td>\n",
       "    </tr>\n",
       "    <tr>\n",
       "      <th>249758</th>\n",
       "      <td>Unknown</td>\n",
       "      <td>NaN</td>\n",
       "      <td>NaN</td>\n",
       "    </tr>\n",
       "    <tr>\n",
       "      <th>249823</th>\n",
       "      <td>Unknown</td>\n",
       "      <td>NaN</td>\n",
       "      <td>NaN</td>\n",
       "    </tr>\n",
       "    <tr>\n",
       "      <th>249890</th>\n",
       "      <td>Unknown</td>\n",
       "      <td>NaN</td>\n",
       "      <td>NaN</td>\n",
       "    </tr>\n",
       "    <tr>\n",
       "      <th>249973</th>\n",
       "      <td>Unknown</td>\n",
       "      <td>NaN</td>\n",
       "      <td>NaN</td>\n",
       "    </tr>\n",
       "    <tr>\n",
       "      <th>250801</th>\n",
       "      <td>Unknown</td>\n",
       "      <td>NaN</td>\n",
       "      <td>NaN</td>\n",
       "    </tr>\n",
       "  </tbody>\n",
       "</table>\n",
       "</div>"
      ],
      "text/plain": [
       "       Geolocation  Low_Confidence_Limit  High_Confidence_Limit\n",
       "40636      Unknown                   NaN                    NaN\n",
       "41464      Unknown                   NaN                    NaN\n",
       "43051      Unknown                   NaN                    NaN\n",
       "45192      Unknown                   NaN                    NaN\n",
       "46562      Unknown                   NaN                    NaN\n",
       "49414      Unknown                   NaN                    NaN\n",
       "52113      Unknown                   NaN                    NaN\n",
       "73014      Unknown                   NaN                    NaN\n",
       "73484      Unknown                   NaN                    NaN\n",
       "74293      Unknown                   NaN                    NaN\n",
       "75438      Unknown                   NaN                    NaN\n",
       "75974      Unknown                   NaN                    NaN\n",
       "76895      Unknown                   NaN                    NaN\n",
       "77249      Unknown                   NaN                    NaN\n",
       "77330      Unknown                   NaN                    NaN\n",
       "77385      Unknown                   NaN                    NaN\n",
       "79444      Unknown                   NaN                    NaN\n",
       "81213      Unknown                   NaN                    NaN\n",
       "81659      Unknown                   NaN                    NaN\n",
       "83461      Unknown                   NaN                    NaN\n",
       "83961      Unknown                   NaN                    NaN\n",
       "84445      Unknown                   NaN                    NaN\n",
       "85791      Unknown                   NaN                    NaN\n",
       "85797      Unknown                   NaN                    NaN\n",
       "86367      Unknown                   NaN                    NaN\n",
       "86517      Unknown                   NaN                    NaN\n",
       "86543      Unknown                   NaN                    NaN\n",
       "87480      Unknown                   NaN                    NaN\n",
       "88210      Unknown                   NaN                    NaN\n",
       "88888      Unknown                   NaN                    NaN\n",
       "89177      Unknown                   NaN                    NaN\n",
       "89654      Unknown                   NaN                    NaN\n",
       "89670      Unknown                   NaN                    NaN\n",
       "90209      Unknown                   NaN                    NaN\n",
       "91552      Unknown                   NaN                    NaN\n",
       "92063      Unknown                   NaN                    NaN\n",
       "92415      Unknown                   NaN                    NaN\n",
       "92458      Unknown                   NaN                    NaN\n",
       "92459      Unknown                   NaN                    NaN\n",
       "93618      Unknown                   NaN                    NaN\n",
       "94105      Unknown                   NaN                    NaN\n",
       "130189     Unknown                   NaN                    NaN\n",
       "134473     Unknown                   NaN                    NaN\n",
       "138488     Unknown                   NaN                    NaN\n",
       "138867     Unknown                   NaN                    NaN\n",
       "139016     Unknown                   NaN                    NaN\n",
       "139399     Unknown                   NaN                    NaN\n",
       "139535     Unknown                   NaN                    NaN\n",
       "139676     Unknown                   NaN                    NaN\n",
       "140291     Unknown                   NaN                    NaN\n",
       "141623     Unknown                   NaN                    NaN\n",
       "142482     Unknown                   NaN                    NaN\n",
       "142713     Unknown                   NaN                    NaN\n",
       "142806     Unknown                   NaN                    NaN\n",
       "143871     Unknown                   NaN                    NaN\n",
       "144206     Unknown                   NaN                    NaN\n",
       "144303     Unknown                   NaN                    NaN\n",
       "144911     Unknown                   NaN                    NaN\n",
       "145116     Unknown                   NaN                    NaN\n",
       "146639     Unknown                   NaN                    NaN\n",
       "146859     Unknown                   NaN                    NaN\n",
       "147082     Unknown                   NaN                    NaN\n",
       "147415     Unknown                   NaN                    NaN\n",
       "147428     Unknown                   NaN                    NaN\n",
       "147486     Unknown                   NaN                    NaN\n",
       "147746     Unknown                   NaN                    NaN\n",
       "147777     Unknown                   NaN                    NaN\n",
       "148280     Unknown                   NaN                    NaN\n",
       "148304     Unknown                   NaN                    NaN\n",
       "148345     Unknown                   NaN                    NaN\n",
       "148363     Unknown                   NaN                    NaN\n",
       "148400     Unknown                   NaN                    NaN\n",
       "148430     Unknown                   NaN                    NaN\n",
       "148516     Unknown                   NaN                    NaN\n",
       "148526     Unknown                   NaN                    NaN\n",
       "148815     Unknown                   NaN                    NaN\n",
       "148835     Unknown                   NaN                    NaN\n",
       "149165     Unknown                   NaN                    NaN\n",
       "149349     Unknown                   NaN                    NaN\n",
       "149792     Unknown                   NaN                    NaN\n",
       "149932     Unknown                   NaN                    NaN\n",
       "150487     Unknown                   NaN                    NaN\n",
       "150723     Unknown                   NaN                    NaN\n",
       "151012     Unknown                   NaN                    NaN\n",
       "151021     Unknown                   NaN                    NaN\n",
       "151344     Unknown                   NaN                    NaN\n",
       "151557     Unknown                   NaN                    NaN\n",
       "151670     Unknown                   NaN                    NaN\n",
       "151736     Unknown                   NaN                    NaN\n",
       "152038     Unknown                   NaN                    NaN\n",
       "152375     Unknown                   NaN                    NaN\n",
       "152896     Unknown                   NaN                    NaN\n",
       "152956     Unknown                   NaN                    NaN\n",
       "153226     Unknown                   NaN                    NaN\n",
       "153633     Unknown                   NaN                    NaN\n",
       "153687     Unknown                   NaN                    NaN\n",
       "154315     Unknown                   NaN                    NaN\n",
       "155147     Unknown                   NaN                    NaN\n",
       "155718     Unknown                   NaN                    NaN\n",
       "156018     Unknown                   NaN                    NaN\n",
       "156024     Unknown                   NaN                    NaN\n",
       "156093     Unknown                   NaN                    NaN\n",
       "156222     Unknown                   NaN                    NaN\n",
       "156377     Unknown                   NaN                    NaN\n",
       "156499     Unknown                   NaN                    NaN\n",
       "156695     Unknown                   NaN                    NaN\n",
       "157001     Unknown                   NaN                    NaN\n",
       "157003     Unknown                   NaN                    NaN\n",
       "157196     Unknown                   NaN                    NaN\n",
       "157209     Unknown                   NaN                    NaN\n",
       "157271     Unknown                   NaN                    NaN\n",
       "157678     Unknown                   NaN                    NaN\n",
       "169049     Unknown                   NaN                    NaN\n",
       "179278     Unknown                   NaN                    NaN\n",
       "181103     Unknown                   NaN                    NaN\n",
       "184121     Unknown                   NaN                    NaN\n",
       "186492     Unknown                   NaN                    NaN\n",
       "186945     Unknown                   NaN                    NaN\n",
       "187100     Unknown                   NaN                    NaN\n",
       "187577     Unknown                   NaN                    NaN\n",
       "187916     Unknown                   NaN                    NaN\n",
       "210941     Unknown                   NaN                    NaN\n",
       "212332     Unknown                   NaN                    NaN\n",
       "213513     Unknown                   NaN                    NaN\n",
       "214307     Unknown                   NaN                    NaN\n",
       "214462     Unknown                   NaN                    NaN\n",
       "215719     Unknown                   NaN                    NaN\n",
       "216130     Unknown                   NaN                    NaN\n",
       "216812     Unknown                   NaN                    NaN\n",
       "217152     Unknown                   NaN                    NaN\n",
       "217696     Unknown                   NaN                    NaN\n",
       "217785     Unknown                   NaN                    NaN\n",
       "218537     Unknown                   NaN                    NaN\n",
       "219039     Unknown                   NaN                    NaN\n",
       "220001     Unknown                   NaN                    NaN\n",
       "220051     Unknown                   NaN                    NaN\n",
       "220098     Unknown                   NaN                    NaN\n",
       "220179     Unknown                   NaN                    NaN\n",
       "221669     Unknown                   NaN                    NaN\n",
       "226059     Unknown                   NaN                    NaN\n",
       "231555     Unknown                   NaN                    NaN\n",
       "231906     Unknown                   NaN                    NaN\n",
       "232131     Unknown                   NaN                    NaN\n",
       "232323     Unknown                   NaN                    NaN\n",
       "232749     Unknown                   NaN                    NaN\n",
       "233413     Unknown                   NaN                    NaN\n",
       "234794     Unknown                   NaN                    NaN\n",
       "234979     Unknown                   NaN                    NaN\n",
       "235379     Unknown                   NaN                    NaN\n",
       "236473     Unknown                   NaN                    NaN\n",
       "236475     Unknown                   NaN                    NaN\n",
       "236695     Unknown                   NaN                    NaN\n",
       "236733     Unknown                   NaN                    NaN\n",
       "236773     Unknown                   NaN                    NaN\n",
       "236841     Unknown                   NaN                    NaN\n",
       "237473     Unknown                   NaN                    NaN\n",
       "237483     Unknown                   NaN                    NaN\n",
       "237859     Unknown                   NaN                    NaN\n",
       "238444     Unknown                   NaN                    NaN\n",
       "238492     Unknown                   NaN                    NaN\n",
       "239141     Unknown                   NaN                    NaN\n",
       "239435     Unknown                   NaN                    NaN\n",
       "240450     Unknown                   NaN                    NaN\n",
       "240503     Unknown                   NaN                    NaN\n",
       "240918     Unknown                   NaN                    NaN\n",
       "241199     Unknown                   NaN                    NaN\n",
       "241513     Unknown                   NaN                    NaN\n",
       "241672     Unknown                   NaN                    NaN\n",
       "246017     Unknown                   NaN                    NaN\n",
       "246600     Unknown                   NaN                    NaN\n",
       "249423     Unknown                   NaN                    NaN\n",
       "249758     Unknown                   NaN                    NaN\n",
       "249823     Unknown                   NaN                    NaN\n",
       "249890     Unknown                   NaN                    NaN\n",
       "249973     Unknown                   NaN                    NaN\n",
       "250801     Unknown                   NaN                    NaN"
      ]
     },
     "execution_count": 91,
     "metadata": {},
     "output_type": "execute_result"
    }
   ],
   "source": [
    "df[df['Low_Confidence_Limit'].isnull()][['Geolocation', 'Low_Confidence_Limit', 'High_Confidence_Limit']]"
   ]
  },
  {
   "cell_type": "markdown",
   "id": "48080b72",
   "metadata": {},
   "source": [
    "<b> Since the 'Geolocation', 'Low_Confidence_Limit', and 'High_Confidence_Limit' Share Rows with Null Values, Drop Those Rows </b>"
   ]
  },
  {
   "cell_type": "code",
   "execution_count": 92,
   "id": "e179adf6",
   "metadata": {},
   "outputs": [],
   "source": [
    "df = df.dropna(subset=['Low_Confidence_Limit'])"
   ]
  },
  {
   "cell_type": "code",
   "execution_count": 93,
   "id": "7843e79a",
   "metadata": {},
   "outputs": [],
   "source": [
    "pd.set_option('display.max_rows', 10)"
   ]
  },
  {
   "cell_type": "code",
   "execution_count": 94,
   "id": "2454af44",
   "metadata": {},
   "outputs": [
    {
     "name": "stdout",
     "output_type": "stream",
     "text": [
      "<class 'pandas.core.frame.DataFrame'>\n",
      "Int64Index: 169126 entries, 0 to 250935\n",
      "Data columns (total 21 columns):\n",
      " #   Column                      Non-Null Count   Dtype  \n",
      "---  ------                      --------------   -----  \n",
      " 0   YearStart                   169126 non-null  int64  \n",
      " 1   YearEnd                     169126 non-null  int64  \n",
      " 2   LocationAbbr                169126 non-null  object \n",
      " 3   LocationDesc                169126 non-null  object \n",
      " 4   Class                       169126 non-null  object \n",
      " 5   Topic                       169126 non-null  object \n",
      " 6   Question                    169126 non-null  object \n",
      " 7   Data_Value_Unit             169126 non-null  object \n",
      " 8   DataValueTypeID             169126 non-null  object \n",
      " 9   Data_Value                  169126 non-null  float64\n",
      " 10  Data_Value_Footnote_Symbol  169126 non-null  object \n",
      " 11  Data_Value_Footnote         169126 non-null  object \n",
      " 12  Age Group                   169126 non-null  object \n",
      " 13  Gender/Race                 169126 non-null  object \n",
      " 14  Geolocation                 169126 non-null  object \n",
      " 15  ClassID                     169126 non-null  object \n",
      " 16  TopicID                     169126 non-null  object \n",
      " 17  QuestionID                  169126 non-null  object \n",
      " 18  LocationID                  169126 non-null  int64  \n",
      " 19  Low_Confidence_Limit        169126 non-null  float64\n",
      " 20  High_Confidence_Limit       169126 non-null  float64\n",
      "dtypes: float64(3), int64(3), object(15)\n",
      "memory usage: 28.4+ MB\n"
     ]
    }
   ],
   "source": [
    "df.info()"
   ]
  },
  {
   "cell_type": "markdown",
   "id": "6086b0e9",
   "metadata": {},
   "source": [
    "<i> The DataFrame Now No Longer Contains Null Values </i>"
   ]
  },
  {
   "cell_type": "markdown",
   "id": "bf5bdac0",
   "metadata": {},
   "source": [
    "<b> Exploratory Data Analysis </b>"
   ]
  },
  {
   "cell_type": "code",
   "execution_count": 95,
   "id": "648321e1",
   "metadata": {},
   "outputs": [
    {
     "data": {
      "text/html": [
       "<div>\n",
       "<style scoped>\n",
       "    .dataframe tbody tr th:only-of-type {\n",
       "        vertical-align: middle;\n",
       "    }\n",
       "\n",
       "    .dataframe tbody tr th {\n",
       "        vertical-align: top;\n",
       "    }\n",
       "\n",
       "    .dataframe thead th {\n",
       "        text-align: right;\n",
       "    }\n",
       "</style>\n",
       "<table border=\"1\" class=\"dataframe\">\n",
       "  <thead>\n",
       "    <tr style=\"text-align: right;\">\n",
       "      <th></th>\n",
       "      <th>YearStart</th>\n",
       "      <th>YearEnd</th>\n",
       "      <th>LocationAbbr</th>\n",
       "      <th>LocationDesc</th>\n",
       "      <th>Class</th>\n",
       "      <th>Topic</th>\n",
       "      <th>Question</th>\n",
       "      <th>Data_Value_Unit</th>\n",
       "      <th>DataValueTypeID</th>\n",
       "      <th>Data_Value</th>\n",
       "      <th>...</th>\n",
       "      <th>Data_Value_Footnote</th>\n",
       "      <th>Age Group</th>\n",
       "      <th>Gender/Race</th>\n",
       "      <th>Geolocation</th>\n",
       "      <th>ClassID</th>\n",
       "      <th>TopicID</th>\n",
       "      <th>QuestionID</th>\n",
       "      <th>LocationID</th>\n",
       "      <th>Low_Confidence_Limit</th>\n",
       "      <th>High_Confidence_Limit</th>\n",
       "    </tr>\n",
       "  </thead>\n",
       "  <tbody>\n",
       "    <tr>\n",
       "      <th>0</th>\n",
       "      <td>2015</td>\n",
       "      <td>2015</td>\n",
       "      <td>SOU</td>\n",
       "      <td>South</td>\n",
       "      <td>Overall Health</td>\n",
       "      <td>Arthritis among older adults</td>\n",
       "      <td>Percentage of older adults ever told they have...</td>\n",
       "      <td>%</td>\n",
       "      <td>PRCTG</td>\n",
       "      <td>36.8</td>\n",
       "      <td>...</td>\n",
       "      <td>No Data Available</td>\n",
       "      <td>50-64</td>\n",
       "      <td>Unknown</td>\n",
       "      <td>Unknown</td>\n",
       "      <td>C01</td>\n",
       "      <td>TOC11</td>\n",
       "      <td>Q43</td>\n",
       "      <td>9003</td>\n",
       "      <td>35.9</td>\n",
       "      <td>37.7</td>\n",
       "    </tr>\n",
       "    <tr>\n",
       "      <th>1</th>\n",
       "      <td>2021</td>\n",
       "      <td>2021</td>\n",
       "      <td>AL</td>\n",
       "      <td>Alabama</td>\n",
       "      <td>Mental Health</td>\n",
       "      <td>Frequent mental distress</td>\n",
       "      <td>Percentage of older adults who are experiencin...</td>\n",
       "      <td>%</td>\n",
       "      <td>PRCTG</td>\n",
       "      <td>15.5</td>\n",
       "      <td>...</td>\n",
       "      <td>No Data Available</td>\n",
       "      <td>Overall</td>\n",
       "      <td>Female</td>\n",
       "      <td>POINT (-86.63186076199969 32.84057112200048)</td>\n",
       "      <td>C05</td>\n",
       "      <td>TMC01</td>\n",
       "      <td>Q03</td>\n",
       "      <td>1</td>\n",
       "      <td>13.4</td>\n",
       "      <td>17.9</td>\n",
       "    </tr>\n",
       "    <tr>\n",
       "      <th>2</th>\n",
       "      <td>2021</td>\n",
       "      <td>2021</td>\n",
       "      <td>OR</td>\n",
       "      <td>Oregon</td>\n",
       "      <td>Mental Health</td>\n",
       "      <td>Lifetime diagnosis of depression</td>\n",
       "      <td>Percentage of older adults with a lifetime dia...</td>\n",
       "      <td>%</td>\n",
       "      <td>PRCTG</td>\n",
       "      <td>23.5</td>\n",
       "      <td>...</td>\n",
       "      <td>No Data Available</td>\n",
       "      <td>Overall</td>\n",
       "      <td>Hispanic</td>\n",
       "      <td>POINT (-120.15503132599969 44.56744942400047)</td>\n",
       "      <td>C05</td>\n",
       "      <td>TMC03</td>\n",
       "      <td>Q27</td>\n",
       "      <td>41</td>\n",
       "      <td>16.0</td>\n",
       "      <td>33.2</td>\n",
       "    </tr>\n",
       "    <tr>\n",
       "      <th>3</th>\n",
       "      <td>2021</td>\n",
       "      <td>2021</td>\n",
       "      <td>NE</td>\n",
       "      <td>Nebraska</td>\n",
       "      <td>Mental Health</td>\n",
       "      <td>Lifetime diagnosis of depression</td>\n",
       "      <td>Percentage of older adults with a lifetime dia...</td>\n",
       "      <td>%</td>\n",
       "      <td>PRCTG</td>\n",
       "      <td>13.6</td>\n",
       "      <td>...</td>\n",
       "      <td>No Data Available</td>\n",
       "      <td>Overall</td>\n",
       "      <td>Unknown</td>\n",
       "      <td>POINT (-99.36572062299967 41.6410409880005)</td>\n",
       "      <td>C05</td>\n",
       "      <td>TMC03</td>\n",
       "      <td>Q27</td>\n",
       "      <td>31</td>\n",
       "      <td>12.6</td>\n",
       "      <td>14.6</td>\n",
       "    </tr>\n",
       "    <tr>\n",
       "      <th>4</th>\n",
       "      <td>2021</td>\n",
       "      <td>2021</td>\n",
       "      <td>IN</td>\n",
       "      <td>Indiana</td>\n",
       "      <td>Mental Health</td>\n",
       "      <td>Lifetime diagnosis of depression</td>\n",
       "      <td>Percentage of older adults with a lifetime dia...</td>\n",
       "      <td>%</td>\n",
       "      <td>PRCTG</td>\n",
       "      <td>25.5</td>\n",
       "      <td>...</td>\n",
       "      <td>No Data Available</td>\n",
       "      <td>Overall</td>\n",
       "      <td>Female</td>\n",
       "      <td>POINT (-86.14996019399968 39.766910452000445)</td>\n",
       "      <td>C05</td>\n",
       "      <td>TMC03</td>\n",
       "      <td>Q27</td>\n",
       "      <td>18</td>\n",
       "      <td>23.9</td>\n",
       "      <td>27.3</td>\n",
       "    </tr>\n",
       "  </tbody>\n",
       "</table>\n",
       "<p>5 rows × 21 columns</p>\n",
       "</div>"
      ],
      "text/plain": [
       "   YearStart  YearEnd LocationAbbr LocationDesc           Class  \\\n",
       "0       2015     2015          SOU        South  Overall Health   \n",
       "1       2021     2021           AL      Alabama   Mental Health   \n",
       "2       2021     2021           OR       Oregon   Mental Health   \n",
       "3       2021     2021           NE     Nebraska   Mental Health   \n",
       "4       2021     2021           IN      Indiana   Mental Health   \n",
       "\n",
       "                              Topic  \\\n",
       "0      Arthritis among older adults   \n",
       "1          Frequent mental distress   \n",
       "2  Lifetime diagnosis of depression   \n",
       "3  Lifetime diagnosis of depression   \n",
       "4  Lifetime diagnosis of depression   \n",
       "\n",
       "                                            Question Data_Value_Unit  \\\n",
       "0  Percentage of older adults ever told they have...               %   \n",
       "1  Percentage of older adults who are experiencin...               %   \n",
       "2  Percentage of older adults with a lifetime dia...               %   \n",
       "3  Percentage of older adults with a lifetime dia...               %   \n",
       "4  Percentage of older adults with a lifetime dia...               %   \n",
       "\n",
       "  DataValueTypeID  Data_Value  ... Data_Value_Footnote Age Group Gender/Race  \\\n",
       "0           PRCTG        36.8  ...   No Data Available     50-64     Unknown   \n",
       "1           PRCTG        15.5  ...   No Data Available   Overall      Female   \n",
       "2           PRCTG        23.5  ...   No Data Available   Overall    Hispanic   \n",
       "3           PRCTG        13.6  ...   No Data Available   Overall     Unknown   \n",
       "4           PRCTG        25.5  ...   No Data Available   Overall      Female   \n",
       "\n",
       "                                     Geolocation ClassID TopicID QuestionID  \\\n",
       "0                                        Unknown     C01   TOC11        Q43   \n",
       "1   POINT (-86.63186076199969 32.84057112200048)     C05   TMC01        Q03   \n",
       "2  POINT (-120.15503132599969 44.56744942400047)     C05   TMC03        Q27   \n",
       "3    POINT (-99.36572062299967 41.6410409880005)     C05   TMC03        Q27   \n",
       "4  POINT (-86.14996019399968 39.766910452000445)     C05   TMC03        Q27   \n",
       "\n",
       "  LocationID  Low_Confidence_Limit  High_Confidence_Limit  \n",
       "0       9003                  35.9                   37.7  \n",
       "1          1                  13.4                   17.9  \n",
       "2         41                  16.0                   33.2  \n",
       "3         31                  12.6                   14.6  \n",
       "4         18                  23.9                   27.3  \n",
       "\n",
       "[5 rows x 21 columns]"
      ]
     },
     "execution_count": 95,
     "metadata": {},
     "output_type": "execute_result"
    }
   ],
   "source": [
    "df.head()"
   ]
  },
  {
   "cell_type": "markdown",
   "id": "090dbdc7",
   "metadata": {},
   "source": [
    "<b> How many people are affected by diseases according to their respective TopicID? </b>"
   ]
  },
  {
   "cell_type": "code",
   "execution_count": 123,
   "id": "437b39ba",
   "metadata": {},
   "outputs": [
    {
     "data": {
      "image/png": "[encoded data removed]",
      "text/plain": [
       "<Figure size 2000x1000 with 1 Axes>"
      ]
     },
     "metadata": {},
     "output_type": "display_data"
    }
   ],
   "source": [
    "plt.figure(figsize=(10,5), dpi = 200)\n",
    "sns.countplot(data = df, x = 'TopicID', order=df['TopicID'].value_counts().index)\n",
    "plt.xticks(rotation = 90);"
   ]
  },
  {
   "cell_type": "code",
   "execution_count": 122,
   "id": "71ff4af4",
   "metadata": {},
   "outputs": [
    {
     "name": "stdout",
     "output_type": "stream",
     "text": [
      "Self-rated health (good to excellent health) = 7143 people.\n",
      "Pap test within past 3 years = 1626 people.\n"
     ]
    }
   ],
   "source": [
    "the_most_topic = len(df[df['TopicID'] == 'TOC08'])\n",
    "the_less_topic = len(df[df['TopicID'] == 'TSC03'])\n",
    "print(f\"{df[df['TopicID'] == 'TOC08']['Topic'].iloc[0]} = {the_most_topic} people.\")\n",
    "print(f\"{df[df['TopicID'] == 'TSC03']['Topic'].iloc[0]} = {the_less_topic} people.\")"
   ]
  },
  {
   "cell_type": "markdown",
   "id": "ab6634b3",
   "metadata": {},
   "source": [
    "<b> What is the distribution of the data values ('Data_Value') based on the classes ('Class') with a comparison between age groups ('Age Group')? </b>"
   ]
  },
  {
   "cell_type": "code",
   "execution_count": 129,
   "id": "60fda9dd",
   "metadata": {},
   "outputs": [
    {
     "data": {
      "text/plain": [
       "<matplotlib.legend.Legend at 0x1c65c358730>"
      ]
     },
     "execution_count": 129,
     "metadata": {},
     "output_type": "execute_result"
    },
    {
     "data": {
      "image/png": "[encoded data removed]",
      "text/plain": [
       "<Figure size 2000x1000 with 1 Axes>"
      ]
     },
     "metadata": {},
     "output_type": "display_data"
    }
   ],
   "source": [
    "plt.figure(figsize = (10, 5), dpi = 200)\n",
    "sns.boxplot(data = df, y ='Data_Value', \n",
    "            x = 'Class',\n",
    "            hue = 'Age Group',\n",
    "            palette = 'Set1')\n",
    "plt.xticks(rotation = 90)\n",
    "plt.legend(bbox_to_anchor = (1.05,0.5))"
   ]
  },
  {
   "cell_type": "markdown",
   "id": "88186e7d",
   "metadata": {},
   "source": [
    "<b> What is the distribution of data in the 'YearStart' column in the 'Alzheimer's Disease and Healthy Aging Data' dataset, visualized using kernel density estimation (KDE)? </b>"
   ]
  },
  {
   "cell_type": "code",
   "execution_count": 145,
   "id": "2aa058b2",
   "metadata": {},
   "outputs": [
    {
     "data": {
      "text/plain": [
       "<AxesSubplot:xlabel='YearStart', ylabel='Count'>"
      ]
     },
     "execution_count": 145,
     "metadata": {},
     "output_type": "execute_result"
    },
    {
     "data": {
      "image/png": "[encoded data removed]",
      "text/plain": [
       "<Figure size 640x480 with 1 Axes>"
      ]
     },
     "metadata": {},
     "output_type": "display_data"
    }
   ],
   "source": [
    "sns.histplot(data=df, x=\"YearStart\", kde=True, bins = 6)"
   ]
  }
 ],
 "metadata": {
  "kernelspec": {
   "display_name": "Python 3 (ipykernel)",
   "language": "python",
   "name": "python3"
  },
  "language_info": {
   "codemirror_mode": {
    "name": "ipython",
    "version": 3
   },
   "file_extension": ".py",
   "mimetype": "text/x-python",
   "name": "python",
   "nbconvert_exporter": "python",
   "pygments_lexer": "ipython3",
   "version": "3.9.13"
  }
 },
 "nbformat": 4,
 "nbformat_minor": 5
}
